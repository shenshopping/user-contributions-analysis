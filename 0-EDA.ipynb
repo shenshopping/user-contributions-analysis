{
 "cells": [
  {
   "cell_type": "markdown",
   "metadata": {},
   "source": [
    "## Exploratory data analysis (EDA)"
   ]
  },
  {
   "cell_type": "code",
   "execution_count": 1,
   "metadata": {},
   "outputs": [],
   "source": [
    "import pandas as pd\n",
    "%matplotlib inline\n",
    "import matplotlib.pyplot as plt\n",
    "plt.style.use('seaborn')"
   ]
  },
  {
   "cell_type": "code",
   "execution_count": 2,
   "metadata": {},
   "outputs": [],
   "source": [
    "df = pd.read_csv('Eluvio_DS_Challenge.csv')"
   ]
  },
  {
   "cell_type": "code",
   "execution_count": 3,
   "metadata": {},
   "outputs": [
    {
     "data": {
      "text/plain": [
       "(509236, 8)"
      ]
     },
     "execution_count": 3,
     "metadata": {},
     "output_type": "execute_result"
    }
   ],
   "source": [
    "df.shape"
   ]
  },
  {
   "cell_type": "code",
   "execution_count": 4,
   "metadata": {},
   "outputs": [
    {
     "data": {
      "text/html": [
       "<div>\n",
       "<style scoped>\n",
       "    .dataframe tbody tr th:only-of-type {\n",
       "        vertical-align: middle;\n",
       "    }\n",
       "\n",
       "    .dataframe tbody tr th {\n",
       "        vertical-align: top;\n",
       "    }\n",
       "\n",
       "    .dataframe thead th {\n",
       "        text-align: right;\n",
       "    }\n",
       "</style>\n",
       "<table border=\"1\" class=\"dataframe\">\n",
       "  <thead>\n",
       "    <tr style=\"text-align: right;\">\n",
       "      <th></th>\n",
       "      <th>time_created</th>\n",
       "      <th>date_created</th>\n",
       "      <th>up_votes</th>\n",
       "      <th>down_votes</th>\n",
       "      <th>title</th>\n",
       "      <th>over_18</th>\n",
       "      <th>author</th>\n",
       "      <th>category</th>\n",
       "    </tr>\n",
       "  </thead>\n",
       "  <tbody>\n",
       "    <tr>\n",
       "      <th>0</th>\n",
       "      <td>1201232046</td>\n",
       "      <td>2008-01-25</td>\n",
       "      <td>3</td>\n",
       "      <td>0</td>\n",
       "      <td>Scores killed in Pakistan clashes</td>\n",
       "      <td>False</td>\n",
       "      <td>polar</td>\n",
       "      <td>worldnews</td>\n",
       "    </tr>\n",
       "    <tr>\n",
       "      <th>1</th>\n",
       "      <td>1201232075</td>\n",
       "      <td>2008-01-25</td>\n",
       "      <td>2</td>\n",
       "      <td>0</td>\n",
       "      <td>Japan resumes refuelling mission</td>\n",
       "      <td>False</td>\n",
       "      <td>polar</td>\n",
       "      <td>worldnews</td>\n",
       "    </tr>\n",
       "    <tr>\n",
       "      <th>2</th>\n",
       "      <td>1201232523</td>\n",
       "      <td>2008-01-25</td>\n",
       "      <td>3</td>\n",
       "      <td>0</td>\n",
       "      <td>US presses Egypt on Gaza border</td>\n",
       "      <td>False</td>\n",
       "      <td>polar</td>\n",
       "      <td>worldnews</td>\n",
       "    </tr>\n",
       "    <tr>\n",
       "      <th>3</th>\n",
       "      <td>1201233290</td>\n",
       "      <td>2008-01-25</td>\n",
       "      <td>1</td>\n",
       "      <td>0</td>\n",
       "      <td>Jump-start economy: Give health care to all</td>\n",
       "      <td>False</td>\n",
       "      <td>fadi420</td>\n",
       "      <td>worldnews</td>\n",
       "    </tr>\n",
       "    <tr>\n",
       "      <th>4</th>\n",
       "      <td>1201274720</td>\n",
       "      <td>2008-01-25</td>\n",
       "      <td>4</td>\n",
       "      <td>0</td>\n",
       "      <td>Council of Europe bashes EU&amp;UN terror blacklist</td>\n",
       "      <td>False</td>\n",
       "      <td>mhermans</td>\n",
       "      <td>worldnews</td>\n",
       "    </tr>\n",
       "  </tbody>\n",
       "</table>\n",
       "</div>"
      ],
      "text/plain": [
       "   time_created date_created  up_votes  down_votes  \\\n",
       "0    1201232046   2008-01-25         3           0   \n",
       "1    1201232075   2008-01-25         2           0   \n",
       "2    1201232523   2008-01-25         3           0   \n",
       "3    1201233290   2008-01-25         1           0   \n",
       "4    1201274720   2008-01-25         4           0   \n",
       "\n",
       "                                             title  over_18    author  \\\n",
       "0                Scores killed in Pakistan clashes    False     polar   \n",
       "1                 Japan resumes refuelling mission    False     polar   \n",
       "2                  US presses Egypt on Gaza border    False     polar   \n",
       "3     Jump-start economy: Give health care to all     False   fadi420   \n",
       "4  Council of Europe bashes EU&UN terror blacklist    False  mhermans   \n",
       "\n",
       "    category  \n",
       "0  worldnews  \n",
       "1  worldnews  \n",
       "2  worldnews  \n",
       "3  worldnews  \n",
       "4  worldnews  "
      ]
     },
     "execution_count": 4,
     "metadata": {},
     "output_type": "execute_result"
    }
   ],
   "source": [
    "df.head()"
   ]
  },
  {
   "cell_type": "code",
   "execution_count": 5,
   "metadata": {},
   "outputs": [],
   "source": [
    "df.date_created = pd.to_datetime(df.date_created)"
   ]
  },
  {
   "cell_type": "code",
   "execution_count": 6,
   "metadata": {},
   "outputs": [],
   "source": [
    "# df.time_created = pd.to_datetime(df.time_created)\n",
    "df['time_created2'] = pd.to_datetime(df.time_created, unit='s')"
   ]
  },
  {
   "cell_type": "code",
   "execution_count": 7,
   "metadata": {},
   "outputs": [
    {
     "data": {
      "text/html": [
       "<div>\n",
       "<style scoped>\n",
       "    .dataframe tbody tr th:only-of-type {\n",
       "        vertical-align: middle;\n",
       "    }\n",
       "\n",
       "    .dataframe tbody tr th {\n",
       "        vertical-align: top;\n",
       "    }\n",
       "\n",
       "    .dataframe thead th {\n",
       "        text-align: right;\n",
       "    }\n",
       "</style>\n",
       "<table border=\"1\" class=\"dataframe\">\n",
       "  <thead>\n",
       "    <tr style=\"text-align: right;\">\n",
       "      <th></th>\n",
       "      <th>time_created</th>\n",
       "      <th>date_created</th>\n",
       "      <th>up_votes</th>\n",
       "      <th>down_votes</th>\n",
       "      <th>title</th>\n",
       "      <th>over_18</th>\n",
       "      <th>author</th>\n",
       "      <th>category</th>\n",
       "      <th>time_created2</th>\n",
       "    </tr>\n",
       "  </thead>\n",
       "  <tbody>\n",
       "    <tr>\n",
       "      <th>0</th>\n",
       "      <td>1201232046</td>\n",
       "      <td>2008-01-25</td>\n",
       "      <td>3</td>\n",
       "      <td>0</td>\n",
       "      <td>Scores killed in Pakistan clashes</td>\n",
       "      <td>False</td>\n",
       "      <td>polar</td>\n",
       "      <td>worldnews</td>\n",
       "      <td>2008-01-25 03:34:06</td>\n",
       "    </tr>\n",
       "    <tr>\n",
       "      <th>1</th>\n",
       "      <td>1201232075</td>\n",
       "      <td>2008-01-25</td>\n",
       "      <td>2</td>\n",
       "      <td>0</td>\n",
       "      <td>Japan resumes refuelling mission</td>\n",
       "      <td>False</td>\n",
       "      <td>polar</td>\n",
       "      <td>worldnews</td>\n",
       "      <td>2008-01-25 03:34:35</td>\n",
       "    </tr>\n",
       "    <tr>\n",
       "      <th>2</th>\n",
       "      <td>1201232523</td>\n",
       "      <td>2008-01-25</td>\n",
       "      <td>3</td>\n",
       "      <td>0</td>\n",
       "      <td>US presses Egypt on Gaza border</td>\n",
       "      <td>False</td>\n",
       "      <td>polar</td>\n",
       "      <td>worldnews</td>\n",
       "      <td>2008-01-25 03:42:03</td>\n",
       "    </tr>\n",
       "    <tr>\n",
       "      <th>3</th>\n",
       "      <td>1201233290</td>\n",
       "      <td>2008-01-25</td>\n",
       "      <td>1</td>\n",
       "      <td>0</td>\n",
       "      <td>Jump-start economy: Give health care to all</td>\n",
       "      <td>False</td>\n",
       "      <td>fadi420</td>\n",
       "      <td>worldnews</td>\n",
       "      <td>2008-01-25 03:54:50</td>\n",
       "    </tr>\n",
       "    <tr>\n",
       "      <th>4</th>\n",
       "      <td>1201274720</td>\n",
       "      <td>2008-01-25</td>\n",
       "      <td>4</td>\n",
       "      <td>0</td>\n",
       "      <td>Council of Europe bashes EU&amp;UN terror blacklist</td>\n",
       "      <td>False</td>\n",
       "      <td>mhermans</td>\n",
       "      <td>worldnews</td>\n",
       "      <td>2008-01-25 15:25:20</td>\n",
       "    </tr>\n",
       "  </tbody>\n",
       "</table>\n",
       "</div>"
      ],
      "text/plain": [
       "   time_created date_created  up_votes  down_votes  \\\n",
       "0    1201232046   2008-01-25         3           0   \n",
       "1    1201232075   2008-01-25         2           0   \n",
       "2    1201232523   2008-01-25         3           0   \n",
       "3    1201233290   2008-01-25         1           0   \n",
       "4    1201274720   2008-01-25         4           0   \n",
       "\n",
       "                                             title  over_18    author  \\\n",
       "0                Scores killed in Pakistan clashes    False     polar   \n",
       "1                 Japan resumes refuelling mission    False     polar   \n",
       "2                  US presses Egypt on Gaza border    False     polar   \n",
       "3     Jump-start economy: Give health care to all     False   fadi420   \n",
       "4  Council of Europe bashes EU&UN terror blacklist    False  mhermans   \n",
       "\n",
       "    category       time_created2  \n",
       "0  worldnews 2008-01-25 03:34:06  \n",
       "1  worldnews 2008-01-25 03:34:35  \n",
       "2  worldnews 2008-01-25 03:42:03  \n",
       "3  worldnews 2008-01-25 03:54:50  \n",
       "4  worldnews 2008-01-25 15:25:20  "
      ]
     },
     "execution_count": 7,
     "metadata": {},
     "output_type": "execute_result"
    }
   ],
   "source": [
    "df.head()"
   ]
  },
  {
   "cell_type": "code",
   "execution_count": 8,
   "metadata": {},
   "outputs": [
    {
     "data": {
      "text/html": [
       "<div>\n",
       "<style scoped>\n",
       "    .dataframe tbody tr th:only-of-type {\n",
       "        vertical-align: middle;\n",
       "    }\n",
       "\n",
       "    .dataframe tbody tr th {\n",
       "        vertical-align: top;\n",
       "    }\n",
       "\n",
       "    .dataframe thead th {\n",
       "        text-align: right;\n",
       "    }\n",
       "</style>\n",
       "<table border=\"1\" class=\"dataframe\">\n",
       "  <thead>\n",
       "    <tr style=\"text-align: right;\">\n",
       "      <th></th>\n",
       "      <th>time_created</th>\n",
       "      <th>up_votes</th>\n",
       "      <th>down_votes</th>\n",
       "    </tr>\n",
       "  </thead>\n",
       "  <tbody>\n",
       "    <tr>\n",
       "      <th>count</th>\n",
       "      <td>5.092360e+05</td>\n",
       "      <td>509236.000000</td>\n",
       "      <td>509236.0</td>\n",
       "    </tr>\n",
       "    <tr>\n",
       "      <th>mean</th>\n",
       "      <td>1.380240e+09</td>\n",
       "      <td>112.236283</td>\n",
       "      <td>0.0</td>\n",
       "    </tr>\n",
       "    <tr>\n",
       "      <th>std</th>\n",
       "      <td>7.090436e+07</td>\n",
       "      <td>541.694675</td>\n",
       "      <td>0.0</td>\n",
       "    </tr>\n",
       "    <tr>\n",
       "      <th>min</th>\n",
       "      <td>1.201232e+09</td>\n",
       "      <td>0.000000</td>\n",
       "      <td>0.0</td>\n",
       "    </tr>\n",
       "    <tr>\n",
       "      <th>25%</th>\n",
       "      <td>1.341585e+09</td>\n",
       "      <td>1.000000</td>\n",
       "      <td>0.0</td>\n",
       "    </tr>\n",
       "    <tr>\n",
       "      <th>50%</th>\n",
       "      <td>1.392909e+09</td>\n",
       "      <td>5.000000</td>\n",
       "      <td>0.0</td>\n",
       "    </tr>\n",
       "    <tr>\n",
       "      <th>75%</th>\n",
       "      <td>1.436527e+09</td>\n",
       "      <td>16.000000</td>\n",
       "      <td>0.0</td>\n",
       "    </tr>\n",
       "    <tr>\n",
       "      <th>max</th>\n",
       "      <td>1.479817e+09</td>\n",
       "      <td>21253.000000</td>\n",
       "      <td>0.0</td>\n",
       "    </tr>\n",
       "  </tbody>\n",
       "</table>\n",
       "</div>"
      ],
      "text/plain": [
       "       time_created       up_votes  down_votes\n",
       "count  5.092360e+05  509236.000000    509236.0\n",
       "mean   1.380240e+09     112.236283         0.0\n",
       "std    7.090436e+07     541.694675         0.0\n",
       "min    1.201232e+09       0.000000         0.0\n",
       "25%    1.341585e+09       1.000000         0.0\n",
       "50%    1.392909e+09       5.000000         0.0\n",
       "75%    1.436527e+09      16.000000         0.0\n",
       "max    1.479817e+09   21253.000000         0.0"
      ]
     },
     "execution_count": 8,
     "metadata": {},
     "output_type": "execute_result"
    }
   ],
   "source": [
    "df.describe()"
   ]
  },
  {
   "cell_type": "markdown",
   "metadata": {},
   "source": [
    "**down_votes** are all 0, a useless column, consider **dropping** it."
   ]
  },
  {
   "cell_type": "code",
   "execution_count": 9,
   "metadata": {},
   "outputs": [
    {
     "data": {
      "text/html": [
       "<div>\n",
       "<style scoped>\n",
       "    .dataframe tbody tr th:only-of-type {\n",
       "        vertical-align: middle;\n",
       "    }\n",
       "\n",
       "    .dataframe tbody tr th {\n",
       "        vertical-align: top;\n",
       "    }\n",
       "\n",
       "    .dataframe thead th {\n",
       "        text-align: right;\n",
       "    }\n",
       "</style>\n",
       "<table border=\"1\" class=\"dataframe\">\n",
       "  <thead>\n",
       "    <tr style=\"text-align: right;\">\n",
       "      <th></th>\n",
       "      <th>title</th>\n",
       "      <th>author</th>\n",
       "      <th>category</th>\n",
       "    </tr>\n",
       "  </thead>\n",
       "  <tbody>\n",
       "    <tr>\n",
       "      <th>count</th>\n",
       "      <td>509236</td>\n",
       "      <td>509236</td>\n",
       "      <td>509236</td>\n",
       "    </tr>\n",
       "    <tr>\n",
       "      <th>unique</th>\n",
       "      <td>500720</td>\n",
       "      <td>85838</td>\n",
       "      <td>1</td>\n",
       "    </tr>\n",
       "    <tr>\n",
       "      <th>top</th>\n",
       "      <td>Brutality of Syrian Rebels Posing Dilemma in West</td>\n",
       "      <td>davidreiss666</td>\n",
       "      <td>worldnews</td>\n",
       "    </tr>\n",
       "    <tr>\n",
       "      <th>freq</th>\n",
       "      <td>6</td>\n",
       "      <td>8897</td>\n",
       "      <td>509236</td>\n",
       "    </tr>\n",
       "  </tbody>\n",
       "</table>\n",
       "</div>"
      ],
      "text/plain": [
       "                                                    title         author  \\\n",
       "count                                              509236         509236   \n",
       "unique                                             500720          85838   \n",
       "top     Brutality of Syrian Rebels Posing Dilemma in West  davidreiss666   \n",
       "freq                                                    6           8897   \n",
       "\n",
       "         category  \n",
       "count      509236  \n",
       "unique          1  \n",
       "top     worldnews  \n",
       "freq       509236  "
      ]
     },
     "execution_count": 9,
     "metadata": {},
     "output_type": "execute_result"
    }
   ],
   "source": [
    "df.describe(include='object')"
   ]
  },
  {
   "cell_type": "markdown",
   "metadata": {},
   "source": [
    "Only one category: worldnews."
   ]
  },
  {
   "cell_type": "code",
   "execution_count": 10,
   "metadata": {
    "scrolled": true
   },
   "outputs": [
    {
     "data": {
      "text/html": [
       "<div>\n",
       "<style scoped>\n",
       "    .dataframe tbody tr th:only-of-type {\n",
       "        vertical-align: middle;\n",
       "    }\n",
       "\n",
       "    .dataframe tbody tr th {\n",
       "        vertical-align: top;\n",
       "    }\n",
       "\n",
       "    .dataframe thead th {\n",
       "        text-align: right;\n",
       "    }\n",
       "</style>\n",
       "<table border=\"1\" class=\"dataframe\">\n",
       "  <thead>\n",
       "    <tr style=\"text-align: right;\">\n",
       "      <th></th>\n",
       "      <th>date_created</th>\n",
       "      <th>time_created2</th>\n",
       "    </tr>\n",
       "  </thead>\n",
       "  <tbody>\n",
       "    <tr>\n",
       "      <th>count</th>\n",
       "      <td>509236</td>\n",
       "      <td>509236</td>\n",
       "    </tr>\n",
       "    <tr>\n",
       "      <th>unique</th>\n",
       "      <td>3223</td>\n",
       "      <td>508329</td>\n",
       "    </tr>\n",
       "    <tr>\n",
       "      <th>top</th>\n",
       "      <td>2015-11-24 00:00:00</td>\n",
       "      <td>2015-05-30 05:34:48</td>\n",
       "    </tr>\n",
       "    <tr>\n",
       "      <th>freq</th>\n",
       "      <td>458</td>\n",
       "      <td>4</td>\n",
       "    </tr>\n",
       "    <tr>\n",
       "      <th>first</th>\n",
       "      <td>2008-01-25 00:00:00</td>\n",
       "      <td>2008-01-25 03:34:06</td>\n",
       "    </tr>\n",
       "    <tr>\n",
       "      <th>last</th>\n",
       "      <td>2016-11-22 00:00:00</td>\n",
       "      <td>2016-11-22 12:22:26</td>\n",
       "    </tr>\n",
       "  </tbody>\n",
       "</table>\n",
       "</div>"
      ],
      "text/plain": [
       "               date_created        time_created2\n",
       "count                509236               509236\n",
       "unique                 3223               508329\n",
       "top     2015-11-24 00:00:00  2015-05-30 05:34:48\n",
       "freq                    458                    4\n",
       "first   2008-01-25 00:00:00  2008-01-25 03:34:06\n",
       "last    2016-11-22 00:00:00  2016-11-22 12:22:26"
      ]
     },
     "execution_count": 10,
     "metadata": {},
     "output_type": "execute_result"
    }
   ],
   "source": [
    "df.describe(include='datetime')"
   ]
  },
  {
   "cell_type": "markdown",
   "metadata": {},
   "source": [
    "#### How many contents for each author"
   ]
  },
  {
   "cell_type": "code",
   "execution_count": 11,
   "metadata": {},
   "outputs": [],
   "source": [
    "df_author_content_cnt = df[['category', 'author']].groupby('author').count().sort_values('category', ascending=False)#.plot(kind='box', vert=False)\n",
    "df_author_content_cnt.columns=['content_cnt']"
   ]
  },
  {
   "cell_type": "code",
   "execution_count": 12,
   "metadata": {
    "scrolled": true
   },
   "outputs": [],
   "source": [
    "# df_author_content_cnt.content_cnt.value_counts()"
   ]
  },
  {
   "cell_type": "code",
   "execution_count": 13,
   "metadata": {},
   "outputs": [
    {
     "data": {
      "text/plain": [
       "<matplotlib.axes._subplots.AxesSubplot at 0x222a4928438>"
      ]
     },
     "execution_count": 13,
     "metadata": {},
     "output_type": "execute_result"
    },
    {
     "data": {
      "image/png": "[encoded data removed]",
      "text/plain": [
       "<Figure size 720x432 with 1 Axes>"
      ]
     },
     "metadata": {
      "needs_background": "light"
     },
     "output_type": "display_data"
    }
   ],
   "source": [
    "df_author_content_cnt[(df_author_content_cnt.content_cnt<=500) & (df_author_content_cnt.content_cnt>50)].plot(kind='hist', figsize=(10,6))"
   ]
  },
  {
   "cell_type": "code",
   "execution_count": 14,
   "metadata": {},
   "outputs": [
    {
     "data": {
      "text/plain": [
       "<matplotlib.axes._subplots.AxesSubplot at 0x222a4b4a630>"
      ]
     },
     "execution_count": 14,
     "metadata": {},
     "output_type": "execute_result"
    },
    {
     "data": {
      "image/png": "[encoded data removed]",
      "text/plain": [
       "<Figure size 720x432 with 1 Axes>"
      ]
     },
     "metadata": {
      "needs_background": "light"
     },
     "output_type": "display_data"
    }
   ],
   "source": [
    "df_author_content_cnt[(df_author_content_cnt.content_cnt<=500)].plot(kind='hist', figsize=(10,6))"
   ]
  },
  {
   "cell_type": "markdown",
   "metadata": {},
   "source": [
    "Most of the authors have less than 10 contents, while some may have extremely more."
   ]
  },
  {
   "cell_type": "markdown",
   "metadata": {},
   "source": [
    "Add a column to indicate nth content for each author."
   ]
  },
  {
   "cell_type": "code",
   "execution_count": 15,
   "metadata": {},
   "outputs": [
    {
     "data": {
      "text/html": [
       "<div>\n",
       "<style scoped>\n",
       "    .dataframe tbody tr th:only-of-type {\n",
       "        vertical-align: middle;\n",
       "    }\n",
       "\n",
       "    .dataframe tbody tr th {\n",
       "        vertical-align: top;\n",
       "    }\n",
       "\n",
       "    .dataframe thead th {\n",
       "        text-align: right;\n",
       "    }\n",
       "</style>\n",
       "<table border=\"1\" class=\"dataframe\">\n",
       "  <thead>\n",
       "    <tr style=\"text-align: right;\">\n",
       "      <th></th>\n",
       "      <th>time_created</th>\n",
       "      <th>date_created</th>\n",
       "      <th>up_votes</th>\n",
       "      <th>down_votes</th>\n",
       "      <th>title</th>\n",
       "      <th>over_18</th>\n",
       "      <th>author</th>\n",
       "      <th>category</th>\n",
       "      <th>time_created2</th>\n",
       "      <th>nth_content</th>\n",
       "    </tr>\n",
       "  </thead>\n",
       "  <tbody>\n",
       "    <tr>\n",
       "      <th>0</th>\n",
       "      <td>1201232046</td>\n",
       "      <td>2008-01-25</td>\n",
       "      <td>3</td>\n",
       "      <td>0</td>\n",
       "      <td>Scores killed in Pakistan clashes</td>\n",
       "      <td>False</td>\n",
       "      <td>polar</td>\n",
       "      <td>worldnews</td>\n",
       "      <td>2008-01-25 03:34:06</td>\n",
       "      <td>1</td>\n",
       "    </tr>\n",
       "    <tr>\n",
       "      <th>1</th>\n",
       "      <td>1201232075</td>\n",
       "      <td>2008-01-25</td>\n",
       "      <td>2</td>\n",
       "      <td>0</td>\n",
       "      <td>Japan resumes refuelling mission</td>\n",
       "      <td>False</td>\n",
       "      <td>polar</td>\n",
       "      <td>worldnews</td>\n",
       "      <td>2008-01-25 03:34:35</td>\n",
       "      <td>2</td>\n",
       "    </tr>\n",
       "    <tr>\n",
       "      <th>2</th>\n",
       "      <td>1201232523</td>\n",
       "      <td>2008-01-25</td>\n",
       "      <td>3</td>\n",
       "      <td>0</td>\n",
       "      <td>US presses Egypt on Gaza border</td>\n",
       "      <td>False</td>\n",
       "      <td>polar</td>\n",
       "      <td>worldnews</td>\n",
       "      <td>2008-01-25 03:42:03</td>\n",
       "      <td>3</td>\n",
       "    </tr>\n",
       "    <tr>\n",
       "      <th>3</th>\n",
       "      <td>1201233290</td>\n",
       "      <td>2008-01-25</td>\n",
       "      <td>1</td>\n",
       "      <td>0</td>\n",
       "      <td>Jump-start economy: Give health care to all</td>\n",
       "      <td>False</td>\n",
       "      <td>fadi420</td>\n",
       "      <td>worldnews</td>\n",
       "      <td>2008-01-25 03:54:50</td>\n",
       "      <td>1</td>\n",
       "    </tr>\n",
       "    <tr>\n",
       "      <th>4</th>\n",
       "      <td>1201274720</td>\n",
       "      <td>2008-01-25</td>\n",
       "      <td>4</td>\n",
       "      <td>0</td>\n",
       "      <td>Council of Europe bashes EU&amp;UN terror blacklist</td>\n",
       "      <td>False</td>\n",
       "      <td>mhermans</td>\n",
       "      <td>worldnews</td>\n",
       "      <td>2008-01-25 15:25:20</td>\n",
       "      <td>1</td>\n",
       "    </tr>\n",
       "    <tr>\n",
       "      <th>5</th>\n",
       "      <td>1201287889</td>\n",
       "      <td>2008-01-25</td>\n",
       "      <td>15</td>\n",
       "      <td>0</td>\n",
       "      <td>Hay presto! Farmer unveils the  illegal  mock-...</td>\n",
       "      <td>False</td>\n",
       "      <td>Armagedonovich</td>\n",
       "      <td>worldnews</td>\n",
       "      <td>2008-01-25 19:04:49</td>\n",
       "      <td>1</td>\n",
       "    </tr>\n",
       "    <tr>\n",
       "      <th>6</th>\n",
       "      <td>1201289438</td>\n",
       "      <td>2008-01-25</td>\n",
       "      <td>5</td>\n",
       "      <td>0</td>\n",
       "      <td>Strikes, Protests and Gridlock at the Poland-U...</td>\n",
       "      <td>False</td>\n",
       "      <td>Clythos</td>\n",
       "      <td>worldnews</td>\n",
       "      <td>2008-01-25 19:30:38</td>\n",
       "      <td>1</td>\n",
       "    </tr>\n",
       "    <tr>\n",
       "      <th>7</th>\n",
       "      <td>1201536662</td>\n",
       "      <td>2008-01-28</td>\n",
       "      <td>0</td>\n",
       "      <td>0</td>\n",
       "      <td>The U.N. Mismanagement Program</td>\n",
       "      <td>False</td>\n",
       "      <td>Moldavite</td>\n",
       "      <td>worldnews</td>\n",
       "      <td>2008-01-28 16:11:02</td>\n",
       "      <td>1</td>\n",
       "    </tr>\n",
       "    <tr>\n",
       "      <th>8</th>\n",
       "      <td>1201558396</td>\n",
       "      <td>2008-01-28</td>\n",
       "      <td>4</td>\n",
       "      <td>0</td>\n",
       "      <td>Nicolas Sarkozy threatens to sue Ryanair</td>\n",
       "      <td>False</td>\n",
       "      <td>Moldavite</td>\n",
       "      <td>worldnews</td>\n",
       "      <td>2008-01-28 22:13:16</td>\n",
       "      <td>2</td>\n",
       "    </tr>\n",
       "    <tr>\n",
       "      <th>9</th>\n",
       "      <td>1201635869</td>\n",
       "      <td>2008-01-29</td>\n",
       "      <td>3</td>\n",
       "      <td>0</td>\n",
       "      <td>US plans for missile shields in Polish town me...</td>\n",
       "      <td>False</td>\n",
       "      <td>JoeyRamone63</td>\n",
       "      <td>worldnews</td>\n",
       "      <td>2008-01-29 19:44:29</td>\n",
       "      <td>1</td>\n",
       "    </tr>\n",
       "  </tbody>\n",
       "</table>\n",
       "</div>"
      ],
      "text/plain": [
       "   time_created date_created  up_votes  down_votes  \\\n",
       "0    1201232046   2008-01-25         3           0   \n",
       "1    1201232075   2008-01-25         2           0   \n",
       "2    1201232523   2008-01-25         3           0   \n",
       "3    1201233290   2008-01-25         1           0   \n",
       "4    1201274720   2008-01-25         4           0   \n",
       "5    1201287889   2008-01-25        15           0   \n",
       "6    1201289438   2008-01-25         5           0   \n",
       "7    1201536662   2008-01-28         0           0   \n",
       "8    1201558396   2008-01-28         4           0   \n",
       "9    1201635869   2008-01-29         3           0   \n",
       "\n",
       "                                               title  over_18          author  \\\n",
       "0                  Scores killed in Pakistan clashes    False           polar   \n",
       "1                   Japan resumes refuelling mission    False           polar   \n",
       "2                    US presses Egypt on Gaza border    False           polar   \n",
       "3       Jump-start economy: Give health care to all     False         fadi420   \n",
       "4    Council of Europe bashes EU&UN terror blacklist    False        mhermans   \n",
       "5  Hay presto! Farmer unveils the  illegal  mock-...    False  Armagedonovich   \n",
       "6  Strikes, Protests and Gridlock at the Poland-U...    False         Clythos   \n",
       "7                     The U.N. Mismanagement Program    False       Moldavite   \n",
       "8          Nicolas Sarkozy threatens to sue Ryanair     False       Moldavite   \n",
       "9  US plans for missile shields in Polish town me...    False    JoeyRamone63   \n",
       "\n",
       "    category       time_created2  nth_content  \n",
       "0  worldnews 2008-01-25 03:34:06            1  \n",
       "1  worldnews 2008-01-25 03:34:35            2  \n",
       "2  worldnews 2008-01-25 03:42:03            3  \n",
       "3  worldnews 2008-01-25 03:54:50            1  \n",
       "4  worldnews 2008-01-25 15:25:20            1  \n",
       "5  worldnews 2008-01-25 19:04:49            1  \n",
       "6  worldnews 2008-01-25 19:30:38            1  \n",
       "7  worldnews 2008-01-28 16:11:02            1  \n",
       "8  worldnews 2008-01-28 22:13:16            2  \n",
       "9  worldnews 2008-01-29 19:44:29            1  "
      ]
     },
     "execution_count": 15,
     "metadata": {},
     "output_type": "execute_result"
    }
   ],
   "source": [
    "# sort by time\n",
    "df.sort_values(by=['time_created'], inplace=True)\n",
    "# nth content by each author\n",
    "df['nth_content'] = df.groupby(['author']).cumcount()+1\n",
    "df.head(10)"
   ]
  },
  {
   "cell_type": "code",
   "execution_count": 16,
   "metadata": {},
   "outputs": [
    {
     "name": "stdout",
     "output_type": "stream",
     "text": [
      "0 : Iran launches mass production of new surface-to-air missiles\n",
      "1 : Burkina Faso traders riot over lootings: Merchants set fire to ruling party s headquarters after officials fail to stop soldiers ransacking their shops\r\n",
      "\n",
      "2 : Drought, hail, cold conspire to turn European wine grape harvest in worst in half a century\n",
      "3 : U.S. travel alert adds Nogales, Mexico\n",
      "4 : Peru state energy company reports Amazon oil spill\n",
      "5 : Denmark Reintroduces Border Controls\n",
      "6 : Ukrainian rebels free four OSCE hostages, four still in captivity\n",
      "7 : Signs of Changes Taking Hold in Electronics Factories in China\r\n",
      "\n",
      "8 : Turnbull, Morrison to speak on tax reform\n",
      "9 : Panama Papers: Pakistan PM Sharif under fire over offshore accounts\n",
      "10 : Where is the Muslim world outrage over DARFUR?\n",
      "11 : China eyes artificial intelligence for ‘fire-and-forget’ cruise missiles | China is already a global leader in the field of using artificial intelligence in missiles, says representative of space programme contractor\n",
      "12 : WHO: 7 million premature deaths annually linked to air pollution\n",
      "13 : Three Turkish soldiers killed as PKK steps up attacks after air strikes – Ynetnews\n",
      "14 : President Morsi of Egypt is undercut by state-run \r\n",
      "media\n",
      "15 : Iran’s top human rights official censured the hypocritical approach pursued by the self-styled advocates of human rights in the world.Self-proclaimed flag bearers of human rights in the world are  close allies  with regimes that deprive their people of the right to decide their future\n",
      "16 : Rupert Murdoch Admits Defeat: Now Wants London Times To Appear In Google Search Results\n",
      "17 : ‘NY Times’ publishes defense of racial segregation in Israel\n",
      "18 :  Affluenza  teen may delay deportation from Mexico with human rights law\n",
      "19 : Bundeswehr ammunition gets lost on Berlin-Mali flight\n"
     ]
    }
   ],
   "source": [
    "for k, title in enumerate(df[['title']].sample(20, random_state=2019).title):\n",
    "    print(k, ':', title)"
   ]
  },
  {
   "cell_type": "markdown",
   "metadata": {},
   "source": [
    "Note the variation in **length of titles**, might be a potential feature."
   ]
  },
  {
   "cell_type": "markdown",
   "metadata": {},
   "source": [
    "#### Some exploration towards over_18 contents"
   ]
  },
  {
   "cell_type": "code",
   "execution_count": 17,
   "metadata": {},
   "outputs": [
    {
     "data": {
      "text/plain": [
       "False    508916\n",
       "True        320\n",
       "Name: over_18, dtype: int64"
      ]
     },
     "execution_count": 17,
     "metadata": {},
     "output_type": "execute_result"
    }
   ],
   "source": [
    "df.over_18.value_counts()"
   ]
  },
  {
   "cell_type": "code",
   "execution_count": 18,
   "metadata": {},
   "outputs": [
    {
     "name": "stdout",
     "output_type": "stream",
     "text": [
      "International Go-Topless Day sees women bare breasts in 50 cities\n",
      "NSFW: Syrian Internet Restored, Dramatic Footage Emerges [VIDEO]\n",
      " Muslim, let s get naked : Ukraine-based activist group Femen Opens First Office Abroad in Paris. For the opening, the women ran half-naked through a predominantly Muslim neighborhood in the French capital.\n",
      "In pictures: Gaza Massacre (Graphic!  possibly NSFW)\n",
      "Footage suggests Egypt protesters shot at - NSFW\n",
      "Tragic story - How the Thai army deals with deserters. Warning - graphic pictures inside.\n",
      "IDF kills young Palestinian boy. Potentially NSFW.\n",
      "Tibetan in Delhi Sets Self Alight to Protest Chinese Leader s Visit - NYTimes.com\n",
      "[NSFL] Australian child molester Peter Scully faces death penalty in Philippines - Scully  filmed his torture and rape of young girls as he made them dig their own graves  and  laughed, joked and acted nonchalant about his alleged crimes \n",
      "2,500 people killed in Bangladesh by the Govt. on May 6, 2013, however, the World doesn t know about it.\n",
      "Animal Cruelty in Halal Meat Production in Indonesia supported by Australia (NSFW)\n",
      "Japanese idol, a member of the girls group AKB48, accused of sexually abusing a child in her  inappropriate  nude photo. [LINK PHOTO NSFW]\n",
      "CNN: Videos show glimpse into evidence for Syria intervention\n",
      "Israeli female soldiers disciplined for racy Facebook photos [NSFW]\n",
      "Syrian Doctor Describes Treating Chemical Weapons Victims [NSFL] [NPR]\n",
      "Hundreds of children s bodies piled high after nerve gas attack near Damascus leaves up to 1,300 dead\n",
      "Japanese woman faces two years in prison for trying to 3D scan her vagina for a special kind of kyak design. mildly nsfw.\n",
      "NSFW  A child girl shot in the eye by Syrian security forces.\n",
      "Tortured puppies covered in hot tar and left for dead in Romanian city\n",
      "Israeli Rights Group Releases Video of Soldier Executing Wounded Palestinian Suspect\n"
     ]
    }
   ],
   "source": [
    "for text in df[df.over_18==True].sample(20, random_state=2019).title:\n",
    "    print(text)"
   ]
  },
  {
   "cell_type": "markdown",
   "metadata": {},
   "source": [
    "Many of them have words like NSFW, NSFL, NPR, indicating why they have been classified as over_18. Some in the beginning, some in the ending. Some in the parenthesis, some not.\n",
    "- Indication for later pre-processing: remove links, words mentioned above, contents between a pair of parenthesis() or square brackets[]"
   ]
  },
  {
   "cell_type": "code",
   "execution_count": 19,
   "metadata": {
    "scrolled": true
   },
   "outputs": [
    {
     "data": {
      "text/html": [
       "<div>\n",
       "<style scoped>\n",
       "    .dataframe tbody tr th:only-of-type {\n",
       "        vertical-align: middle;\n",
       "    }\n",
       "\n",
       "    .dataframe tbody tr th {\n",
       "        vertical-align: top;\n",
       "    }\n",
       "\n",
       "    .dataframe thead th {\n",
       "        text-align: right;\n",
       "    }\n",
       "</style>\n",
       "<table border=\"1\" class=\"dataframe\">\n",
       "  <thead>\n",
       "    <tr style=\"text-align: right;\">\n",
       "      <th></th>\n",
       "      <th>author</th>\n",
       "      <th>nth_content</th>\n",
       "    </tr>\n",
       "  </thead>\n",
       "  <tbody>\n",
       "    <tr>\n",
       "      <th>1885</th>\n",
       "      <td>pressed</td>\n",
       "      <td>1</td>\n",
       "    </tr>\n",
       "    <tr>\n",
       "      <th>12163</th>\n",
       "      <td>stesch</td>\n",
       "      <td>76</td>\n",
       "    </tr>\n",
       "    <tr>\n",
       "      <th>12699</th>\n",
       "      <td>cup</td>\n",
       "      <td>16</td>\n",
       "    </tr>\n",
       "    <tr>\n",
       "      <th>22937</th>\n",
       "      <td>pets_or_meat</td>\n",
       "      <td>38</td>\n",
       "    </tr>\n",
       "    <tr>\n",
       "      <th>26093</th>\n",
       "      <td>yellowcakewalk</td>\n",
       "      <td>25</td>\n",
       "    </tr>\n",
       "    <tr>\n",
       "      <th>35986</th>\n",
       "      <td>timmythedyingboy</td>\n",
       "      <td>1</td>\n",
       "    </tr>\n",
       "    <tr>\n",
       "      <th>36849</th>\n",
       "      <td>sg42</td>\n",
       "      <td>1</td>\n",
       "    </tr>\n",
       "    <tr>\n",
       "      <th>37176</th>\n",
       "      <td>cactusrex</td>\n",
       "      <td>6</td>\n",
       "    </tr>\n",
       "    <tr>\n",
       "      <th>38831</th>\n",
       "      <td>alllie</td>\n",
       "      <td>752</td>\n",
       "    </tr>\n",
       "    <tr>\n",
       "      <th>40853</th>\n",
       "      <td>m4caque</td>\n",
       "      <td>8</td>\n",
       "    </tr>\n",
       "    <tr>\n",
       "      <th>40889</th>\n",
       "      <td>MrTulip</td>\n",
       "      <td>16</td>\n",
       "    </tr>\n",
       "    <tr>\n",
       "      <th>42431</th>\n",
       "      <td>yamatonadeshiko</td>\n",
       "      <td>1</td>\n",
       "    </tr>\n",
       "    <tr>\n",
       "      <th>42933</th>\n",
       "      <td>dt_vibe</td>\n",
       "      <td>21</td>\n",
       "    </tr>\n",
       "    <tr>\n",
       "      <th>44011</th>\n",
       "      <td>AnnArchist</td>\n",
       "      <td>5</td>\n",
       "    </tr>\n",
       "    <tr>\n",
       "      <th>50806</th>\n",
       "      <td>skorgu</td>\n",
       "      <td>1</td>\n",
       "    </tr>\n",
       "    <tr>\n",
       "      <th>54719</th>\n",
       "      <td>accountt1234</td>\n",
       "      <td>25</td>\n",
       "    </tr>\n",
       "    <tr>\n",
       "      <th>56969</th>\n",
       "      <td>dberis</td>\n",
       "      <td>15</td>\n",
       "    </tr>\n",
       "    <tr>\n",
       "      <th>62602</th>\n",
       "      <td>qgyh2</td>\n",
       "      <td>406</td>\n",
       "    </tr>\n",
       "    <tr>\n",
       "      <th>63784</th>\n",
       "      <td>Barney21</td>\n",
       "      <td>4</td>\n",
       "    </tr>\n",
       "    <tr>\n",
       "      <th>73021</th>\n",
       "      <td>Designchick</td>\n",
       "      <td>1</td>\n",
       "    </tr>\n",
       "    <tr>\n",
       "      <th>73226</th>\n",
       "      <td>OneClassyBloke</td>\n",
       "      <td>1</td>\n",
       "    </tr>\n",
       "    <tr>\n",
       "      <th>74397</th>\n",
       "      <td>thesalemdit</td>\n",
       "      <td>1</td>\n",
       "    </tr>\n",
       "    <tr>\n",
       "      <th>74845</th>\n",
       "      <td>ymo</td>\n",
       "      <td>1</td>\n",
       "    </tr>\n",
       "    <tr>\n",
       "      <th>76483</th>\n",
       "      <td>lesigh</td>\n",
       "      <td>1</td>\n",
       "    </tr>\n",
       "    <tr>\n",
       "      <th>76997</th>\n",
       "      <td>Blow_That_Job</td>\n",
       "      <td>1</td>\n",
       "    </tr>\n",
       "    <tr>\n",
       "      <th>77251</th>\n",
       "      <td>resiros</td>\n",
       "      <td>2</td>\n",
       "    </tr>\n",
       "    <tr>\n",
       "      <th>77417</th>\n",
       "      <td>Ijustdoeyes</td>\n",
       "      <td>6</td>\n",
       "    </tr>\n",
       "    <tr>\n",
       "      <th>77422</th>\n",
       "      <td>Seefor</td>\n",
       "      <td>8</td>\n",
       "    </tr>\n",
       "    <tr>\n",
       "      <th>77788</th>\n",
       "      <td>MadisonWisconsin</td>\n",
       "      <td>2</td>\n",
       "    </tr>\n",
       "    <tr>\n",
       "      <th>77845</th>\n",
       "      <td>jewiscool</td>\n",
       "      <td>17</td>\n",
       "    </tr>\n",
       "    <tr>\n",
       "      <th>...</th>\n",
       "      <td>...</td>\n",
       "      <td>...</td>\n",
       "    </tr>\n",
       "    <tr>\n",
       "      <th>448686</th>\n",
       "      <td>AtheianLibertarist</td>\n",
       "      <td>2</td>\n",
       "    </tr>\n",
       "    <tr>\n",
       "      <th>451056</th>\n",
       "      <td>armeniapedia</td>\n",
       "      <td>5</td>\n",
       "    </tr>\n",
       "    <tr>\n",
       "      <th>454443</th>\n",
       "      <td>_Nickified</td>\n",
       "      <td>1</td>\n",
       "    </tr>\n",
       "    <tr>\n",
       "      <th>461255</th>\n",
       "      <td>PeterG92</td>\n",
       "      <td>1</td>\n",
       "    </tr>\n",
       "    <tr>\n",
       "      <th>464794</th>\n",
       "      <td>Another-Chance</td>\n",
       "      <td>752</td>\n",
       "    </tr>\n",
       "    <tr>\n",
       "      <th>465196</th>\n",
       "      <td>WalkTheMoons</td>\n",
       "      <td>2</td>\n",
       "    </tr>\n",
       "    <tr>\n",
       "      <th>465816</th>\n",
       "      <td>jcd718</td>\n",
       "      <td>1</td>\n",
       "    </tr>\n",
       "    <tr>\n",
       "      <th>475540</th>\n",
       "      <td>frenzy3</td>\n",
       "      <td>11</td>\n",
       "    </tr>\n",
       "    <tr>\n",
       "      <th>476578</th>\n",
       "      <td>orangeflower2015</td>\n",
       "      <td>49</td>\n",
       "    </tr>\n",
       "    <tr>\n",
       "      <th>477142</th>\n",
       "      <td>INDIANACT</td>\n",
       "      <td>1</td>\n",
       "    </tr>\n",
       "    <tr>\n",
       "      <th>477253</th>\n",
       "      <td>polishgangster</td>\n",
       "      <td>1</td>\n",
       "    </tr>\n",
       "    <tr>\n",
       "      <th>479680</th>\n",
       "      <td>NEVERDOUBTED</td>\n",
       "      <td>4</td>\n",
       "    </tr>\n",
       "    <tr>\n",
       "      <th>479839</th>\n",
       "      <td>AkamaruInuzuka</td>\n",
       "      <td>1</td>\n",
       "    </tr>\n",
       "    <tr>\n",
       "      <th>482543</th>\n",
       "      <td>jjlew080</td>\n",
       "      <td>47</td>\n",
       "    </tr>\n",
       "    <tr>\n",
       "      <th>485517</th>\n",
       "      <td>Amillllii</td>\n",
       "      <td>1</td>\n",
       "    </tr>\n",
       "    <tr>\n",
       "      <th>485548</th>\n",
       "      <td>dionysusable</td>\n",
       "      <td>2</td>\n",
       "    </tr>\n",
       "    <tr>\n",
       "      <th>490869</th>\n",
       "      <td>Fuck_Terrorism</td>\n",
       "      <td>83</td>\n",
       "    </tr>\n",
       "    <tr>\n",
       "      <th>492657</th>\n",
       "      <td>infamemob</td>\n",
       "      <td>1</td>\n",
       "    </tr>\n",
       "    <tr>\n",
       "      <th>493526</th>\n",
       "      <td>yumcentral</td>\n",
       "      <td>55</td>\n",
       "    </tr>\n",
       "    <tr>\n",
       "      <th>494006</th>\n",
       "      <td>JahanzaibRao</td>\n",
       "      <td>6</td>\n",
       "    </tr>\n",
       "    <tr>\n",
       "      <th>494536</th>\n",
       "      <td>ExWhySaid</td>\n",
       "      <td>1</td>\n",
       "    </tr>\n",
       "    <tr>\n",
       "      <th>494947</th>\n",
       "      <td>n0k1man</td>\n",
       "      <td>58</td>\n",
       "    </tr>\n",
       "    <tr>\n",
       "      <th>499751</th>\n",
       "      <td>C-G-B_Spender</td>\n",
       "      <td>6</td>\n",
       "    </tr>\n",
       "    <tr>\n",
       "      <th>500590</th>\n",
       "      <td>IsleCook</td>\n",
       "      <td>643</td>\n",
       "    </tr>\n",
       "    <tr>\n",
       "      <th>502531</th>\n",
       "      <td>internet-junkie</td>\n",
       "      <td>5</td>\n",
       "    </tr>\n",
       "    <tr>\n",
       "      <th>503776</th>\n",
       "      <td>pixelinthe</td>\n",
       "      <td>1</td>\n",
       "    </tr>\n",
       "    <tr>\n",
       "      <th>508067</th>\n",
       "      <td>halacska</td>\n",
       "      <td>5</td>\n",
       "    </tr>\n",
       "    <tr>\n",
       "      <th>508176</th>\n",
       "      <td>NinjaDiscoJesus</td>\n",
       "      <td>2444</td>\n",
       "    </tr>\n",
       "    <tr>\n",
       "      <th>508376</th>\n",
       "      <td>avivi_</td>\n",
       "      <td>69</td>\n",
       "    </tr>\n",
       "    <tr>\n",
       "      <th>508706</th>\n",
       "      <td>atyzer</td>\n",
       "      <td>3</td>\n",
       "    </tr>\n",
       "  </tbody>\n",
       "</table>\n",
       "<p>285 rows × 2 columns</p>\n",
       "</div>"
      ],
      "text/plain": [
       "                    author  nth_content\n",
       "1885               pressed            1\n",
       "12163               stesch           76\n",
       "12699                  cup           16\n",
       "22937         pets_or_meat           38\n",
       "26093       yellowcakewalk           25\n",
       "35986     timmythedyingboy            1\n",
       "36849                 sg42            1\n",
       "37176            cactusrex            6\n",
       "38831               alllie          752\n",
       "40853              m4caque            8\n",
       "40889              MrTulip           16\n",
       "42431      yamatonadeshiko            1\n",
       "42933              dt_vibe           21\n",
       "44011           AnnArchist            5\n",
       "50806               skorgu            1\n",
       "54719         accountt1234           25\n",
       "56969               dberis           15\n",
       "62602                qgyh2          406\n",
       "63784             Barney21            4\n",
       "73021          Designchick            1\n",
       "73226       OneClassyBloke            1\n",
       "74397          thesalemdit            1\n",
       "74845                  ymo            1\n",
       "76483               lesigh            1\n",
       "76997        Blow_That_Job            1\n",
       "77251              resiros            2\n",
       "77417          Ijustdoeyes            6\n",
       "77422               Seefor            8\n",
       "77788     MadisonWisconsin            2\n",
       "77845            jewiscool           17\n",
       "...                    ...          ...\n",
       "448686  AtheianLibertarist            2\n",
       "451056        armeniapedia            5\n",
       "454443          _Nickified            1\n",
       "461255            PeterG92            1\n",
       "464794      Another-Chance          752\n",
       "465196        WalkTheMoons            2\n",
       "465816              jcd718            1\n",
       "475540             frenzy3           11\n",
       "476578    orangeflower2015           49\n",
       "477142           INDIANACT            1\n",
       "477253      polishgangster            1\n",
       "479680        NEVERDOUBTED            4\n",
       "479839      AkamaruInuzuka            1\n",
       "482543            jjlew080           47\n",
       "485517           Amillllii            1\n",
       "485548        dionysusable            2\n",
       "490869      Fuck_Terrorism           83\n",
       "492657           infamemob            1\n",
       "493526          yumcentral           55\n",
       "494006        JahanzaibRao            6\n",
       "494536           ExWhySaid            1\n",
       "494947             n0k1man           58\n",
       "499751       C-G-B_Spender            6\n",
       "500590            IsleCook          643\n",
       "502531     internet-junkie            5\n",
       "503776          pixelinthe            1\n",
       "508067            halacska            5\n",
       "508176     NinjaDiscoJesus         2444\n",
       "508376              avivi_           69\n",
       "508706              atyzer            3\n",
       "\n",
       "[285 rows x 2 columns]"
      ]
     },
     "execution_count": 19,
     "metadata": {},
     "output_type": "execute_result"
    }
   ],
   "source": [
    "# whether an author keep writing over_18 contents\n",
    "df[df.over_18==True].drop_duplicates(subset=['author'], keep='last')[['author', 'nth_content']]"
   ]
  },
  {
   "cell_type": "code",
   "execution_count": 20,
   "metadata": {},
   "outputs": [],
   "source": [
    "# # check some authors with some number of articles, it turns out that authors won't keep having over_18 content.\n",
    "# # Plus, 320 over_18 contents for 285 authors, re-prove it.\n",
    "# df[df.author=='NinjaDiscoJesus']"
   ]
  },
  {
   "cell_type": "markdown",
   "metadata": {},
   "source": [
    "#### Number of contents over time"
   ]
  },
  {
   "cell_type": "code",
   "execution_count": 21,
   "metadata": {},
   "outputs": [
    {
     "data": {
      "image/png": "[encoded data removed]",
      "text/plain": [
       "<Figure size 1296x432 with 1 Axes>"
      ]
     },
     "metadata": {
      "needs_background": "light"
     },
     "output_type": "display_data"
    }
   ],
   "source": [
    "df[['date_created', 'time_created']].groupby('date_created').count().plot(figsize=(18,6), legend=None)\n",
    "plt.title('Number of Contents Over Time')\n",
    "plt.ylabel('Number of contents')\n",
    "plt.xlabel(None)\n",
    "plt.show()"
   ]
  },
  {
   "cell_type": "markdown",
   "metadata": {},
   "source": [
    "#### Number of authors over time"
   ]
  },
  {
   "cell_type": "code",
   "execution_count": 22,
   "metadata": {},
   "outputs": [
    {
     "data": {
      "image/png": "[encoded data removed]",
      "text/plain": [
       "<Figure size 1296x432 with 1 Axes>"
      ]
     },
     "metadata": {
      "needs_background": "light"
     },
     "output_type": "display_data"
    }
   ],
   "source": [
    "df[['date_created', 'author']].drop_duplicates(subset=['author', 'date_created']).groupby('date_created').count().plot(figsize=(18,6), legend=None)\n",
    "plt.title('Number of Active Authors Over Time')\n",
    "plt.ylabel('Number of authors')\n",
    "plt.xlabel(None)\n",
    "plt.show()"
   ]
  },
  {
   "cell_type": "markdown",
   "metadata": {},
   "source": [
    "**Some indication:**\n",
    "- Similar trend for number of contents and authors.\n",
    "- The numbers are not stable. They increase sharply at several points:\n",
    "    - Mid 2009\n",
    "    - Early 2012\n",
    "    - Mid 2014\n",
    "    - Late 2016\n",
    "- After each sharp increase, the number usually **drop back** to the average point within 2 or 3 month. This makes me think of some non-lasting marketing plans.\n",
    "- Year **2013** seem like a breaking point: the number doubled and remained. There should be a huge change between late 2012 and early 2013."
   ]
  },
  {
   "cell_type": "markdown",
   "metadata": {},
   "source": [
    "#### Number of up-votes over time"
   ]
  },
  {
   "cell_type": "code",
   "execution_count": 23,
   "metadata": {},
   "outputs": [
    {
     "data": {
      "image/png": "[encoded data removed]",
      "text/plain": [
       "<Figure size 1296x432 with 1 Axes>"
      ]
     },
     "metadata": {
      "needs_background": "light"
     },
     "output_type": "display_data"
    }
   ],
   "source": [
    "df[['date_created', 'up_votes']].groupby('date_created').sum().plot(figsize=(18,6), legend=None)\n",
    "plt.title('Number of Up-votes Over Time')\n",
    "plt.ylabel('Number of up-votes')\n",
    "plt.xlabel(None)\n",
    "plt.show()"
   ]
  },
  {
   "cell_type": "markdown",
   "metadata": {},
   "source": [
    "This is a totally different trend. If we think of the dataset is generated from a **UGC (User Generated Content) platform** like Quora or Medium, where there are **two types of users: authors and readers**. The number of contents and authors could represent number of authors, while the number of up-votes could represent the number of readers. As a platform manager, we **want both numbers to increase**.\n",
    "- Despite the fluctuation, the number of readers **keeps growing**."
   ]
  },
  {
   "cell_type": "markdown",
   "metadata": {},
   "source": [
    "#### Distribution of up-votes"
   ]
  },
  {
   "cell_type": "code",
   "execution_count": 24,
   "metadata": {},
   "outputs": [
    {
     "data": {
      "text/plain": [
       "<matplotlib.axes._subplots.AxesSubplot at 0x222a4c522e8>"
      ]
     },
     "execution_count": 24,
     "metadata": {},
     "output_type": "execute_result"
    },
    {
     "data": {
      "image/png": "[encoded data removed]",
      "text/plain": [
       "<Figure size 1440x216 with 1 Axes>"
      ]
     },
     "metadata": {
      "needs_background": "light"
     },
     "output_type": "display_data"
    }
   ],
   "source": [
    "df[(df.nth_content <= 5) & (df.up_votes < 50)].up_votes.plot(kind='hist', figsize=(20,3))"
   ]
  },
  {
   "cell_type": "code",
   "execution_count": null,
   "metadata": {},
   "outputs": [],
   "source": []
  }
 ],
 "metadata": {
  "kernelspec": {
   "display_name": "Python 3",
   "language": "python",
   "name": "python3"
  },
  "language_info": {
   "codemirror_mode": {
    "name": "ipython",
    "version": 3
   },
   "file_extension": ".py",
   "mimetype": "text/x-python",
   "name": "python",
   "nbconvert_exporter": "python",
   "pygments_lexer": "ipython3",
   "version": "3.7.3"
  }
 },
 "nbformat": 4,
 "nbformat_minor": 2
}
