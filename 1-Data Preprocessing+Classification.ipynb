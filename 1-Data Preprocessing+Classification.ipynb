{
 "cells": [
  {
   "cell_type": "markdown",
   "metadata": {},
   "source": [
    "### Data Preprocessing"
   ]
  },
  {
   "cell_type": "code",
   "execution_count": 1,
   "metadata": {},
   "outputs": [],
   "source": [
    "import pandas as pd\n",
    "%matplotlib inline\n",
    "import matplotlib.pyplot as plt\n",
    "plt.style.use('seaborn')"
   ]
  },
  {
   "cell_type": "code",
   "execution_count": 2,
   "metadata": {},
   "outputs": [],
   "source": [
    "df = pd.read_csv('Eluvio_DS_Challenge.csv')"
   ]
  },
  {
   "cell_type": "code",
   "execution_count": 3,
   "metadata": {},
   "outputs": [],
   "source": [
    "df = df.drop(columns=['down_votes', 'category'])"
   ]
  },
  {
   "cell_type": "markdown",
   "metadata": {},
   "source": [
    "Add a column to indicate nth content for each author."
   ]
  },
  {
   "cell_type": "code",
   "execution_count": 4,
   "metadata": {},
   "outputs": [],
   "source": [
    "# sort by time\n",
    "df.sort_values(by=['time_created'], inplace=True)\n",
    "# nth content by each author\n",
    "df['nth_content'] = df.groupby(['author']).cumcount()+1"
   ]
  },
  {
   "cell_type": "code",
   "execution_count": 5,
   "metadata": {},
   "outputs": [
    {
     "data": {
      "text/html": [
       "<div>\n",
       "<style scoped>\n",
       "    .dataframe tbody tr th:only-of-type {\n",
       "        vertical-align: middle;\n",
       "    }\n",
       "\n",
       "    .dataframe tbody tr th {\n",
       "        vertical-align: top;\n",
       "    }\n",
       "\n",
       "    .dataframe thead th {\n",
       "        text-align: right;\n",
       "    }\n",
       "</style>\n",
       "<table border=\"1\" class=\"dataframe\">\n",
       "  <thead>\n",
       "    <tr style=\"text-align: right;\">\n",
       "      <th></th>\n",
       "      <th>time_created</th>\n",
       "      <th>date_created</th>\n",
       "      <th>up_votes</th>\n",
       "      <th>title</th>\n",
       "      <th>over_18</th>\n",
       "      <th>author</th>\n",
       "      <th>nth_content</th>\n",
       "    </tr>\n",
       "  </thead>\n",
       "  <tbody>\n",
       "    <tr>\n",
       "      <th>0</th>\n",
       "      <td>1201232046</td>\n",
       "      <td>2008-01-25</td>\n",
       "      <td>3</td>\n",
       "      <td>Scores killed in Pakistan clashes</td>\n",
       "      <td>False</td>\n",
       "      <td>polar</td>\n",
       "      <td>1</td>\n",
       "    </tr>\n",
       "    <tr>\n",
       "      <th>1</th>\n",
       "      <td>1201232075</td>\n",
       "      <td>2008-01-25</td>\n",
       "      <td>2</td>\n",
       "      <td>Japan resumes refuelling mission</td>\n",
       "      <td>False</td>\n",
       "      <td>polar</td>\n",
       "      <td>2</td>\n",
       "    </tr>\n",
       "    <tr>\n",
       "      <th>2</th>\n",
       "      <td>1201232523</td>\n",
       "      <td>2008-01-25</td>\n",
       "      <td>3</td>\n",
       "      <td>US presses Egypt on Gaza border</td>\n",
       "      <td>False</td>\n",
       "      <td>polar</td>\n",
       "      <td>3</td>\n",
       "    </tr>\n",
       "    <tr>\n",
       "      <th>3</th>\n",
       "      <td>1201233290</td>\n",
       "      <td>2008-01-25</td>\n",
       "      <td>1</td>\n",
       "      <td>Jump-start economy: Give health care to all</td>\n",
       "      <td>False</td>\n",
       "      <td>fadi420</td>\n",
       "      <td>1</td>\n",
       "    </tr>\n",
       "    <tr>\n",
       "      <th>4</th>\n",
       "      <td>1201274720</td>\n",
       "      <td>2008-01-25</td>\n",
       "      <td>4</td>\n",
       "      <td>Council of Europe bashes EU&amp;UN terror blacklist</td>\n",
       "      <td>False</td>\n",
       "      <td>mhermans</td>\n",
       "      <td>1</td>\n",
       "    </tr>\n",
       "  </tbody>\n",
       "</table>\n",
       "</div>"
      ],
      "text/plain": [
       "   time_created date_created  up_votes  \\\n",
       "0    1201232046   2008-01-25         3   \n",
       "1    1201232075   2008-01-25         2   \n",
       "2    1201232523   2008-01-25         3   \n",
       "3    1201233290   2008-01-25         1   \n",
       "4    1201274720   2008-01-25         4   \n",
       "\n",
       "                                             title  over_18    author  \\\n",
       "0                Scores killed in Pakistan clashes    False     polar   \n",
       "1                 Japan resumes refuelling mission    False     polar   \n",
       "2                  US presses Egypt on Gaza border    False     polar   \n",
       "3     Jump-start economy: Give health care to all     False   fadi420   \n",
       "4  Council of Europe bashes EU&UN terror blacklist    False  mhermans   \n",
       "\n",
       "   nth_content  \n",
       "0            1  \n",
       "1            2  \n",
       "2            3  \n",
       "3            1  \n",
       "4            1  "
      ]
     },
     "execution_count": 5,
     "metadata": {},
     "output_type": "execute_result"
    }
   ],
   "source": [
    "df.head()"
   ]
  },
  {
   "cell_type": "code",
   "execution_count": 6,
   "metadata": {},
   "outputs": [],
   "source": [
    "# only first n contents for each author\n",
    "df = df[df.nth_content == 1]"
   ]
  },
  {
   "cell_type": "code",
   "execution_count": 7,
   "metadata": {},
   "outputs": [
    {
     "data": {
      "text/plain": [
       "(85838, 7)"
      ]
     },
     "execution_count": 7,
     "metadata": {},
     "output_type": "execute_result"
    }
   ],
   "source": [
    "df.shape"
   ]
  },
  {
   "cell_type": "code",
   "execution_count": 9,
   "metadata": {},
   "outputs": [
    {
     "data": {
      "text/plain": [
       "(85838, 7)"
      ]
     },
     "execution_count": 9,
     "metadata": {},
     "output_type": "execute_result"
    }
   ],
   "source": [
    "df[df.nth_content == 1].shape"
   ]
  },
  {
   "cell_type": "code",
   "execution_count": 8,
   "metadata": {},
   "outputs": [],
   "source": [
    "## text preprocessing functions\n",
    "from nltk import word_tokenize, pos_tag\n",
    "from nltk.corpus import wordnet, stopwords\n",
    "from nltk.stem import WordNetLemmatizer\n",
    "import nltk\n",
    "import re\n",
    "\n",
    "stopwords = stopwords.words()\n",
    "english_punctuations = [',', '.', ':', ';', '?', '(', ')', '[', ']', '&', '!', '*', '@', '#', '$', '%','{','}']\n",
    "for p in english_punctuations:\n",
    "    stopwords.append(p)\n",
    "    \n",
    "# regular expression pattern for url link\n",
    "url_patter = r'(http[s]?://)?(?:[a-zA-Z]|[0-9]|[$-_@.&+]|[!*\\(\\), ]|(?:%[0-9a-fA-F][0-9a-fA-F]))+'\n",
    "\n",
    "def get_wordnet_pos(tag):\n",
    "    if tag.startswith('J'):\n",
    "        return wordnet.ADJ\n",
    "    elif tag.startswith('V'):\n",
    "        return wordnet.VERB\n",
    "    elif tag.startswith('N'):\n",
    "        return wordnet.NOUN\n",
    "    elif tag.startswith('R'):\n",
    "        return wordnet.ADV\n",
    "    else:\n",
    "        return None\n",
    "\n",
    "def filter_word(text):\n",
    "    ## tokenize\n",
    "#     words_split = nltk.word_tokenize(re.sub(url_patter, '', text)) # remove link\n",
    "    words_split = nltk.word_tokenize(text.lower().split('|')[0]) # lowercase, remove things after | that tend to be link\n",
    "    \n",
    "    lemmatizer = WordNetLemmatizer()\n",
    "    ## tag (lemmatizer in nltk need part of speech as input to lemmatize word, especially for verb and adjective)\n",
    "    i = 0\n",
    "    words_filtered = ''\n",
    "    for tag in nltk.pos_tag(words_split):\n",
    "        wordnet_pos = get_wordnet_pos(tag[1]) or wordnet.NOUN\n",
    "        ## lemmatize\n",
    "        word = lemmatizer.lemmatize(tag[0], pos=wordnet_pos)\n",
    "        ## remove punctuation\n",
    "        if word.lower() not in english_punctuations:\n",
    "             words_filtered += (word + ' ')\n",
    "#         ## remove stopwords\n",
    "#         if word.lower() not in stopwords:\n",
    "#              words_filtered += (word + ' ')\n",
    "    \n",
    "    return words_filtered"
   ]
  },
  {
   "cell_type": "code",
   "execution_count": 43,
   "metadata": {},
   "outputs": [
    {
     "name": "stdout",
     "output_type": "stream",
     "text": [
      "Wall time: 2min 26s\n"
     ]
    }
   ],
   "source": [
    "%%time\n",
    "df.reset_index(inplace=True, drop=True)\n",
    "df['title_filtered'] = df.title.apply(lambda x: filter_word(x))"
   ]
  },
  {
   "cell_type": "code",
   "execution_count": 11,
   "metadata": {},
   "outputs": [
    {
     "data": {
      "text/plain": [
       "26489                 sri lankan air force purchase jf-17 \n",
       "45874    enormous craft detect moon result three terrie...\n",
       "38486    young female british backpacker drink counterf...\n",
       "37916     norway pm become taxi driver day canvas opinion \n",
       "35349          5 convict qatari mall fire kill 13 toddler \n",
       "11874    iceland supreme court rule constitutional asse...\n",
       "72306                        russia issue currency crimea \n",
       "22101          arrest offensive tweet follow olympic loss \n",
       "24984              japan approve new stimulus ail economy \n",
       "71387            syrian suspected link say enter thailand \n",
       "Name: title, dtype: object"
      ]
     },
     "execution_count": 11,
     "metadata": {},
     "output_type": "execute_result"
    }
   ],
   "source": [
    "df.reset_index(inplace=True, drop=True)\n",
    "df.sample(10)['title'].apply(lambda x: filter_word(x))"
   ]
  },
  {
   "cell_type": "markdown",
   "metadata": {},
   "source": [
    "### Feature extraction"
   ]
  },
  {
   "cell_type": "code",
   "execution_count": 12,
   "metadata": {},
   "outputs": [],
   "source": [
    "def text_length(text):\n",
    "    return len(text.split(' '))\n",
    "\n",
    "df['title_length'] = df.title.apply(lambda x: text_length(x))"
   ]
  },
  {
   "cell_type": "code",
   "execution_count": 13,
   "metadata": {},
   "outputs": [
    {
     "data": {
      "text/html": [
       "<div>\n",
       "<style scoped>\n",
       "    .dataframe tbody tr th:only-of-type {\n",
       "        vertical-align: middle;\n",
       "    }\n",
       "\n",
       "    .dataframe tbody tr th {\n",
       "        vertical-align: top;\n",
       "    }\n",
       "\n",
       "    .dataframe thead th {\n",
       "        text-align: right;\n",
       "    }\n",
       "</style>\n",
       "<table border=\"1\" class=\"dataframe\">\n",
       "  <thead>\n",
       "    <tr style=\"text-align: right;\">\n",
       "      <th></th>\n",
       "      <th>time_created</th>\n",
       "      <th>date_created</th>\n",
       "      <th>up_votes</th>\n",
       "      <th>title</th>\n",
       "      <th>over_18</th>\n",
       "      <th>author</th>\n",
       "      <th>nth_content</th>\n",
       "      <th>title_filtered</th>\n",
       "      <th>title_length</th>\n",
       "    </tr>\n",
       "  </thead>\n",
       "  <tbody>\n",
       "    <tr>\n",
       "      <th>0</th>\n",
       "      <td>1201232046</td>\n",
       "      <td>2008-01-25</td>\n",
       "      <td>3</td>\n",
       "      <td>Scores killed in Pakistan clashes</td>\n",
       "      <td>False</td>\n",
       "      <td>polar</td>\n",
       "      <td>1</td>\n",
       "      <td>score kill pakistan clash</td>\n",
       "      <td>5</td>\n",
       "    </tr>\n",
       "    <tr>\n",
       "      <th>1</th>\n",
       "      <td>1201233290</td>\n",
       "      <td>2008-01-25</td>\n",
       "      <td>1</td>\n",
       "      <td>Jump-start economy: Give health care to all</td>\n",
       "      <td>False</td>\n",
       "      <td>fadi420</td>\n",
       "      <td>1</td>\n",
       "      <td>jump-start economy give health</td>\n",
       "      <td>8</td>\n",
       "    </tr>\n",
       "    <tr>\n",
       "      <th>2</th>\n",
       "      <td>1201274720</td>\n",
       "      <td>2008-01-25</td>\n",
       "      <td>4</td>\n",
       "      <td>Council of Europe bashes EU&amp;UN terror blacklist</td>\n",
       "      <td>False</td>\n",
       "      <td>mhermans</td>\n",
       "      <td>1</td>\n",
       "      <td>council europe bash terror blacklist</td>\n",
       "      <td>7</td>\n",
       "    </tr>\n",
       "    <tr>\n",
       "      <th>3</th>\n",
       "      <td>1201287889</td>\n",
       "      <td>2008-01-25</td>\n",
       "      <td>15</td>\n",
       "      <td>Hay presto! Farmer unveils the  illegal  mock-...</td>\n",
       "      <td>False</td>\n",
       "      <td>Armagedonovich</td>\n",
       "      <td>1</td>\n",
       "      <td>presto farmer unveils illegal mock-tudor castl...</td>\n",
       "      <td>18</td>\n",
       "    </tr>\n",
       "    <tr>\n",
       "      <th>4</th>\n",
       "      <td>1201289438</td>\n",
       "      <td>2008-01-25</td>\n",
       "      <td>5</td>\n",
       "      <td>Strikes, Protests and Gridlock at the Poland-U...</td>\n",
       "      <td>False</td>\n",
       "      <td>Clythos</td>\n",
       "      <td>1</td>\n",
       "      <td>strike protest gridlock poland-ukraine border</td>\n",
       "      <td>8</td>\n",
       "    </tr>\n",
       "  </tbody>\n",
       "</table>\n",
       "</div>"
      ],
      "text/plain": [
       "   time_created date_created  up_votes  \\\n",
       "0    1201232046   2008-01-25         3   \n",
       "1    1201233290   2008-01-25         1   \n",
       "2    1201274720   2008-01-25         4   \n",
       "3    1201287889   2008-01-25        15   \n",
       "4    1201289438   2008-01-25         5   \n",
       "\n",
       "                                               title  over_18          author  \\\n",
       "0                  Scores killed in Pakistan clashes    False           polar   \n",
       "1       Jump-start economy: Give health care to all     False         fadi420   \n",
       "2    Council of Europe bashes EU&UN terror blacklist    False        mhermans   \n",
       "3  Hay presto! Farmer unveils the  illegal  mock-...    False  Armagedonovich   \n",
       "4  Strikes, Protests and Gridlock at the Poland-U...    False         Clythos   \n",
       "\n",
       "   nth_content                                     title_filtered  \\\n",
       "0            1                         score kill pakistan clash    \n",
       "1            1                    jump-start economy give health    \n",
       "2            1              council europe bash terror blacklist    \n",
       "3            1  presto farmer unveils illegal mock-tudor castl...   \n",
       "4            1     strike protest gridlock poland-ukraine border    \n",
       "\n",
       "   title_length  \n",
       "0             5  \n",
       "1             8  \n",
       "2             7  \n",
       "3            18  \n",
       "4             8  "
      ]
     },
     "execution_count": 13,
     "metadata": {},
     "output_type": "execute_result"
    }
   ],
   "source": [
    "df.head()"
   ]
  },
  {
   "cell_type": "code",
   "execution_count": 14,
   "metadata": {},
   "outputs": [],
   "source": [
    "df['time_created2'] = pd.to_datetime(df.time_created, unit='s')\n",
    "# the day of week\n",
    "df['weekday'] = df['time_created2'].dt.dayofweek\n",
    "# the hour of a day\n",
    "df['hour'] = df['time_created2'].apply(lambda x: x.hour)\n",
    "# morning, afternoon, evening, night, early morning\n",
    "def time_period(hour):\n",
    "    if hour>=5 and hour<12:\n",
    "        return 'morning'\n",
    "    if hour>=12 and hour<=17:\n",
    "        return 'afternoon'\n",
    "    if hour>17 and hour<20:\n",
    "        return 'evening'\n",
    "    if hour>=20 or hour<=1:\n",
    "        return 'night'\n",
    "    if hour>1 and hour<5:\n",
    "        return 'early_morning'\n",
    "df['time_peroid'] = df.hour.apply(lambda x: time_period(x))\n",
    "# weekday dummy\n",
    "weekday = pd.get_dummies(df.weekday)\n",
    "df2 = pd.concat([df, weekday], axis=1)\n",
    "# time period dummy\n",
    "time_period = pd.get_dummies(df.time_peroid)\n",
    "df2 = pd.concat([df2, time_period], axis=1)\n"
   ]
  },
  {
   "cell_type": "code",
   "execution_count": 15,
   "metadata": {
    "scrolled": true
   },
   "outputs": [
    {
     "data": {
      "text/html": [
       "<div>\n",
       "<style scoped>\n",
       "    .dataframe tbody tr th:only-of-type {\n",
       "        vertical-align: middle;\n",
       "    }\n",
       "\n",
       "    .dataframe tbody tr th {\n",
       "        vertical-align: top;\n",
       "    }\n",
       "\n",
       "    .dataframe thead th {\n",
       "        text-align: right;\n",
       "    }\n",
       "</style>\n",
       "<table border=\"1\" class=\"dataframe\">\n",
       "  <thead>\n",
       "    <tr style=\"text-align: right;\">\n",
       "      <th></th>\n",
       "      <th>time_created</th>\n",
       "      <th>date_created</th>\n",
       "      <th>up_votes</th>\n",
       "      <th>title</th>\n",
       "      <th>over_18</th>\n",
       "      <th>author</th>\n",
       "      <th>nth_content</th>\n",
       "      <th>title_filtered</th>\n",
       "      <th>title_length</th>\n",
       "      <th>time_created2</th>\n",
       "      <th>...</th>\n",
       "      <th>2</th>\n",
       "      <th>3</th>\n",
       "      <th>4</th>\n",
       "      <th>5</th>\n",
       "      <th>6</th>\n",
       "      <th>afternoon</th>\n",
       "      <th>early_morning</th>\n",
       "      <th>evening</th>\n",
       "      <th>morning</th>\n",
       "      <th>night</th>\n",
       "    </tr>\n",
       "  </thead>\n",
       "  <tbody>\n",
       "    <tr>\n",
       "      <th>36237</th>\n",
       "      <td>1373122657</td>\n",
       "      <td>2013-07-06</td>\n",
       "      <td>26</td>\n",
       "      <td>Train carrying 70 tanks of flammable liquid de...</td>\n",
       "      <td>False</td>\n",
       "      <td>jpeuvion</td>\n",
       "      <td>1</td>\n",
       "      <td>train carry 70 tank flammable liquid derails b...</td>\n",
       "      <td>13</td>\n",
       "      <td>2013-07-06 14:57:37</td>\n",
       "      <td>...</td>\n",
       "      <td>0</td>\n",
       "      <td>0</td>\n",
       "      <td>0</td>\n",
       "      <td>1</td>\n",
       "      <td>0</td>\n",
       "      <td>1</td>\n",
       "      <td>0</td>\n",
       "      <td>0</td>\n",
       "      <td>0</td>\n",
       "      <td>0</td>\n",
       "    </tr>\n",
       "    <tr>\n",
       "      <th>22259</th>\n",
       "      <td>1344405704</td>\n",
       "      <td>2012-08-08</td>\n",
       "      <td>0</td>\n",
       "      <td>The 3 Most Excellent Qualities that make Micha...</td>\n",
       "      <td>False</td>\n",
       "      <td>sexychickjune1231</td>\n",
       "      <td>1</td>\n",
       "      <td>3 excellent quality make michael phelps unbeat...</td>\n",
       "      <td>10</td>\n",
       "      <td>2012-08-08 06:01:44</td>\n",
       "      <td>...</td>\n",
       "      <td>1</td>\n",
       "      <td>0</td>\n",
       "      <td>0</td>\n",
       "      <td>0</td>\n",
       "      <td>0</td>\n",
       "      <td>0</td>\n",
       "      <td>0</td>\n",
       "      <td>0</td>\n",
       "      <td>1</td>\n",
       "      <td>0</td>\n",
       "    </tr>\n",
       "    <tr>\n",
       "      <th>32604</th>\n",
       "      <td>1366986109</td>\n",
       "      <td>2013-04-26</td>\n",
       "      <td>10</td>\n",
       "      <td>Former Pakistani President Pervez Musharraf ha...</td>\n",
       "      <td>False</td>\n",
       "      <td>fuufnfr</td>\n",
       "      <td>1</td>\n",
       "      <td>former pakistani president pervez musharraf “ ...</td>\n",
       "      <td>22</td>\n",
       "      <td>2013-04-26 14:21:49</td>\n",
       "      <td>...</td>\n",
       "      <td>0</td>\n",
       "      <td>0</td>\n",
       "      <td>1</td>\n",
       "      <td>0</td>\n",
       "      <td>0</td>\n",
       "      <td>1</td>\n",
       "      <td>0</td>\n",
       "      <td>0</td>\n",
       "      <td>0</td>\n",
       "      <td>0</td>\n",
       "    </tr>\n",
       "    <tr>\n",
       "      <th>56139</th>\n",
       "      <td>1413584696</td>\n",
       "      <td>2014-10-17</td>\n",
       "      <td>3</td>\n",
       "      <td>Russia And China Want To Build The Longest Hig...</td>\n",
       "      <td>False</td>\n",
       "      <td>Dyspareuniac</td>\n",
       "      <td>1</td>\n",
       "      <td>russia china build long high-speed railway wor...</td>\n",
       "      <td>16</td>\n",
       "      <td>2014-10-17 22:24:56</td>\n",
       "      <td>...</td>\n",
       "      <td>0</td>\n",
       "      <td>0</td>\n",
       "      <td>1</td>\n",
       "      <td>0</td>\n",
       "      <td>0</td>\n",
       "      <td>0</td>\n",
       "      <td>0</td>\n",
       "      <td>0</td>\n",
       "      <td>0</td>\n",
       "      <td>1</td>\n",
       "    </tr>\n",
       "    <tr>\n",
       "      <th>74126</th>\n",
       "      <td>1454953936</td>\n",
       "      <td>2016-02-08</td>\n",
       "      <td>15</td>\n",
       "      <td>President Obama requests $1.8 billion in emerg...</td>\n",
       "      <td>False</td>\n",
       "      <td>Stubborntilldate</td>\n",
       "      <td>1</td>\n",
       "      <td>president obama request 1.8 billion emergency ...</td>\n",
       "      <td>12</td>\n",
       "      <td>2016-02-08 17:52:16</td>\n",
       "      <td>...</td>\n",
       "      <td>0</td>\n",
       "      <td>0</td>\n",
       "      <td>0</td>\n",
       "      <td>0</td>\n",
       "      <td>0</td>\n",
       "      <td>1</td>\n",
       "      <td>0</td>\n",
       "      <td>0</td>\n",
       "      <td>0</td>\n",
       "      <td>0</td>\n",
       "    </tr>\n",
       "    <tr>\n",
       "      <th>50554</th>\n",
       "      <td>1399717947</td>\n",
       "      <td>2014-05-10</td>\n",
       "      <td>143</td>\n",
       "      <td>China blames U.S. for stoking tensions in Sout...</td>\n",
       "      <td>False</td>\n",
       "      <td>umwelter</td>\n",
       "      <td>1</td>\n",
       "      <td>china blame u.s. stoke tension south china</td>\n",
       "      <td>10</td>\n",
       "      <td>2014-05-10 10:32:27</td>\n",
       "      <td>...</td>\n",
       "      <td>0</td>\n",
       "      <td>0</td>\n",
       "      <td>0</td>\n",
       "      <td>1</td>\n",
       "      <td>0</td>\n",
       "      <td>0</td>\n",
       "      <td>0</td>\n",
       "      <td>0</td>\n",
       "      <td>1</td>\n",
       "      <td>0</td>\n",
       "    </tr>\n",
       "    <tr>\n",
       "      <th>75655</th>\n",
       "      <td>1458016155</td>\n",
       "      <td>2016-03-15</td>\n",
       "      <td>20</td>\n",
       "      <td>North Korean leader orders nuclear warhead tes...</td>\n",
       "      <td>False</td>\n",
       "      <td>BrokenNin</td>\n",
       "      <td>1</td>\n",
       "      <td>north korean leader order nuclear warhead test...</td>\n",
       "      <td>14</td>\n",
       "      <td>2016-03-15 04:29:15</td>\n",
       "      <td>...</td>\n",
       "      <td>0</td>\n",
       "      <td>0</td>\n",
       "      <td>0</td>\n",
       "      <td>0</td>\n",
       "      <td>0</td>\n",
       "      <td>0</td>\n",
       "      <td>1</td>\n",
       "      <td>0</td>\n",
       "      <td>0</td>\n",
       "      <td>0</td>\n",
       "    </tr>\n",
       "    <tr>\n",
       "      <th>69359</th>\n",
       "      <td>1446393385</td>\n",
       "      <td>2015-11-01</td>\n",
       "      <td>3</td>\n",
       "      <td>Australian Islamic Leader Says Muslim Schoolch...</td>\n",
       "      <td>False</td>\n",
       "      <td>wgtt911</td>\n",
       "      <td>1</td>\n",
       "      <td>australian islamic leader say muslim schoolchi...</td>\n",
       "      <td>12</td>\n",
       "      <td>2015-11-01 15:56:25</td>\n",
       "      <td>...</td>\n",
       "      <td>0</td>\n",
       "      <td>0</td>\n",
       "      <td>0</td>\n",
       "      <td>0</td>\n",
       "      <td>1</td>\n",
       "      <td>1</td>\n",
       "      <td>0</td>\n",
       "      <td>0</td>\n",
       "      <td>0</td>\n",
       "      <td>0</td>\n",
       "    </tr>\n",
       "    <tr>\n",
       "      <th>39915</th>\n",
       "      <td>1379245701</td>\n",
       "      <td>2013-09-15</td>\n",
       "      <td>5</td>\n",
       "      <td>India test fires n-capable Agni-V missile</td>\n",
       "      <td>False</td>\n",
       "      <td>antorobin</td>\n",
       "      <td>1</td>\n",
       "      <td>india test fire n-capable agni-v missile</td>\n",
       "      <td>6</td>\n",
       "      <td>2013-09-15 11:48:21</td>\n",
       "      <td>...</td>\n",
       "      <td>0</td>\n",
       "      <td>0</td>\n",
       "      <td>0</td>\n",
       "      <td>0</td>\n",
       "      <td>1</td>\n",
       "      <td>0</td>\n",
       "      <td>0</td>\n",
       "      <td>0</td>\n",
       "      <td>1</td>\n",
       "      <td>0</td>\n",
       "    </tr>\n",
       "    <tr>\n",
       "      <th>7430</th>\n",
       "      <td>1254128949</td>\n",
       "      <td>2009-09-28</td>\n",
       "      <td>1</td>\n",
       "      <td>A person apparently managed to extract some ``...</td>\n",
       "      <td>False</td>\n",
       "      <td>ingreenheaven</td>\n",
       "      <td>1</td>\n",
       "      <td>person apparently manage extract `` sensitive ...</td>\n",
       "      <td>35</td>\n",
       "      <td>2009-09-28 09:09:09</td>\n",
       "      <td>...</td>\n",
       "      <td>0</td>\n",
       "      <td>0</td>\n",
       "      <td>0</td>\n",
       "      <td>0</td>\n",
       "      <td>0</td>\n",
       "      <td>0</td>\n",
       "      <td>0</td>\n",
       "      <td>0</td>\n",
       "      <td>1</td>\n",
       "      <td>0</td>\n",
       "    </tr>\n",
       "    <tr>\n",
       "      <th>82912</th>\n",
       "      <td>1473191572</td>\n",
       "      <td>2016-09-06</td>\n",
       "      <td>5</td>\n",
       "      <td>Syrian warplanes allegedly drop chlorine bombs...</td>\n",
       "      <td>False</td>\n",
       "      <td>drfunk</td>\n",
       "      <td>1</td>\n",
       "      <td>syrian warplane allegedly drop chlorine bomb a...</td>\n",
       "      <td>13</td>\n",
       "      <td>2016-09-06 19:52:52</td>\n",
       "      <td>...</td>\n",
       "      <td>0</td>\n",
       "      <td>0</td>\n",
       "      <td>0</td>\n",
       "      <td>0</td>\n",
       "      <td>0</td>\n",
       "      <td>0</td>\n",
       "      <td>0</td>\n",
       "      <td>1</td>\n",
       "      <td>0</td>\n",
       "      <td>0</td>\n",
       "    </tr>\n",
       "    <tr>\n",
       "      <th>16127</th>\n",
       "      <td>1315221573</td>\n",
       "      <td>2011-09-05</td>\n",
       "      <td>5</td>\n",
       "      <td>Turkish Navy is NOT escorting aid ships to Gaza</td>\n",
       "      <td>False</td>\n",
       "      <td>holy_maccaroni</td>\n",
       "      <td>1</td>\n",
       "      <td>turkish navy escort aid ship gaza</td>\n",
       "      <td>9</td>\n",
       "      <td>2011-09-05 11:19:33</td>\n",
       "      <td>...</td>\n",
       "      <td>0</td>\n",
       "      <td>0</td>\n",
       "      <td>0</td>\n",
       "      <td>0</td>\n",
       "      <td>0</td>\n",
       "      <td>0</td>\n",
       "      <td>0</td>\n",
       "      <td>0</td>\n",
       "      <td>1</td>\n",
       "      <td>0</td>\n",
       "    </tr>\n",
       "    <tr>\n",
       "      <th>71130</th>\n",
       "      <td>1448946240</td>\n",
       "      <td>2015-12-01</td>\n",
       "      <td>4</td>\n",
       "      <td>Body of downed Russian pilot back in Russia</td>\n",
       "      <td>False</td>\n",
       "      <td>Merklin99</td>\n",
       "      <td>1</td>\n",
       "      <td>body downed russian pilot back russia</td>\n",
       "      <td>8</td>\n",
       "      <td>2015-12-01 05:04:00</td>\n",
       "      <td>...</td>\n",
       "      <td>0</td>\n",
       "      <td>0</td>\n",
       "      <td>0</td>\n",
       "      <td>0</td>\n",
       "      <td>0</td>\n",
       "      <td>0</td>\n",
       "      <td>0</td>\n",
       "      <td>0</td>\n",
       "      <td>1</td>\n",
       "      <td>0</td>\n",
       "    </tr>\n",
       "    <tr>\n",
       "      <th>66125</th>\n",
       "      <td>1439593155</td>\n",
       "      <td>2015-08-14</td>\n",
       "      <td>21</td>\n",
       "      <td>ISIS throw two men off a roof for being gay</td>\n",
       "      <td>False</td>\n",
       "      <td>baddimagarahulgandhi</td>\n",
       "      <td>1</td>\n",
       "      <td>throw two roof gay</td>\n",
       "      <td>10</td>\n",
       "      <td>2015-08-14 22:59:15</td>\n",
       "      <td>...</td>\n",
       "      <td>0</td>\n",
       "      <td>0</td>\n",
       "      <td>1</td>\n",
       "      <td>0</td>\n",
       "      <td>0</td>\n",
       "      <td>0</td>\n",
       "      <td>0</td>\n",
       "      <td>0</td>\n",
       "      <td>0</td>\n",
       "      <td>1</td>\n",
       "    </tr>\n",
       "    <tr>\n",
       "      <th>79514</th>\n",
       "      <td>1466166734</td>\n",
       "      <td>2016-06-17</td>\n",
       "      <td>19</td>\n",
       "      <td>Transgender activist throws dildo at Quebec PM...</td>\n",
       "      <td>False</td>\n",
       "      <td>EyeingEris</td>\n",
       "      <td>1</td>\n",
       "      <td>transgender activist throw dildo quebec pm cal...</td>\n",
       "      <td>10</td>\n",
       "      <td>2016-06-17 12:32:14</td>\n",
       "      <td>...</td>\n",
       "      <td>0</td>\n",
       "      <td>0</td>\n",
       "      <td>1</td>\n",
       "      <td>0</td>\n",
       "      <td>0</td>\n",
       "      <td>1</td>\n",
       "      <td>0</td>\n",
       "      <td>0</td>\n",
       "      <td>0</td>\n",
       "      <td>0</td>\n",
       "    </tr>\n",
       "    <tr>\n",
       "      <th>26881</th>\n",
       "      <td>1357172473</td>\n",
       "      <td>2013-01-03</td>\n",
       "      <td>0</td>\n",
       "      <td>Iran claims two more drones.</td>\n",
       "      <td>False</td>\n",
       "      <td>GuythrustDeepwood</td>\n",
       "      <td>1</td>\n",
       "      <td>iran claim two drone</td>\n",
       "      <td>5</td>\n",
       "      <td>2013-01-03 00:21:13</td>\n",
       "      <td>...</td>\n",
       "      <td>0</td>\n",
       "      <td>1</td>\n",
       "      <td>0</td>\n",
       "      <td>0</td>\n",
       "      <td>0</td>\n",
       "      <td>0</td>\n",
       "      <td>0</td>\n",
       "      <td>0</td>\n",
       "      <td>0</td>\n",
       "      <td>1</td>\n",
       "    </tr>\n",
       "    <tr>\n",
       "      <th>28562</th>\n",
       "      <td>1360947628</td>\n",
       "      <td>2013-02-15</td>\n",
       "      <td>282</td>\n",
       "      <td>Conservative Cabinet minister:  Gay couples ca...</td>\n",
       "      <td>False</td>\n",
       "      <td>ukcreation</td>\n",
       "      <td>1</td>\n",
       "      <td>conservative cabinet minister gay couple provi...</td>\n",
       "      <td>13</td>\n",
       "      <td>2013-02-15 17:00:28</td>\n",
       "      <td>...</td>\n",
       "      <td>0</td>\n",
       "      <td>0</td>\n",
       "      <td>1</td>\n",
       "      <td>0</td>\n",
       "      <td>0</td>\n",
       "      <td>1</td>\n",
       "      <td>0</td>\n",
       "      <td>0</td>\n",
       "      <td>0</td>\n",
       "      <td>0</td>\n",
       "    </tr>\n",
       "    <tr>\n",
       "      <th>20735</th>\n",
       "      <td>1338473062</td>\n",
       "      <td>2012-05-31</td>\n",
       "      <td>420</td>\n",
       "      <td>Moscow Mistakenly Plants Field of Marijuana In...</td>\n",
       "      <td>False</td>\n",
       "      <td>kotleopold</td>\n",
       "      <td>1</td>\n",
       "      <td>moscow mistakenly plant field marijuana instea...</td>\n",
       "      <td>9</td>\n",
       "      <td>2012-05-31 14:04:22</td>\n",
       "      <td>...</td>\n",
       "      <td>0</td>\n",
       "      <td>1</td>\n",
       "      <td>0</td>\n",
       "      <td>0</td>\n",
       "      <td>0</td>\n",
       "      <td>1</td>\n",
       "      <td>0</td>\n",
       "      <td>0</td>\n",
       "      <td>0</td>\n",
       "      <td>0</td>\n",
       "    </tr>\n",
       "    <tr>\n",
       "      <th>46658</th>\n",
       "      <td>1392000840</td>\n",
       "      <td>2014-02-10</td>\n",
       "      <td>0</td>\n",
       "      <td>Copenhagen zoo kills baby giraffe and feeds to...</td>\n",
       "      <td>False</td>\n",
       "      <td>lickmytitties</td>\n",
       "      <td>1</td>\n",
       "      <td>copenhagen zoo kill baby giraffe feed lion</td>\n",
       "      <td>9</td>\n",
       "      <td>2014-02-10 02:54:00</td>\n",
       "      <td>...</td>\n",
       "      <td>0</td>\n",
       "      <td>0</td>\n",
       "      <td>0</td>\n",
       "      <td>0</td>\n",
       "      <td>0</td>\n",
       "      <td>0</td>\n",
       "      <td>1</td>\n",
       "      <td>0</td>\n",
       "      <td>0</td>\n",
       "      <td>0</td>\n",
       "    </tr>\n",
       "    <tr>\n",
       "      <th>29062</th>\n",
       "      <td>1361880640</td>\n",
       "      <td>2013-02-26</td>\n",
       "      <td>0</td>\n",
       "      <td>PressTV-Iran presents new proposals at P5+1 talks</td>\n",
       "      <td>False</td>\n",
       "      <td>nhyh</td>\n",
       "      <td>1</td>\n",
       "      <td>presstv-iran present new proposal p5+1 talk</td>\n",
       "      <td>7</td>\n",
       "      <td>2013-02-26 12:10:40</td>\n",
       "      <td>...</td>\n",
       "      <td>0</td>\n",
       "      <td>0</td>\n",
       "      <td>0</td>\n",
       "      <td>0</td>\n",
       "      <td>0</td>\n",
       "      <td>1</td>\n",
       "      <td>0</td>\n",
       "      <td>0</td>\n",
       "      <td>0</td>\n",
       "      <td>0</td>\n",
       "    </tr>\n",
       "  </tbody>\n",
       "</table>\n",
       "<p>20 rows × 25 columns</p>\n",
       "</div>"
      ],
      "text/plain": [
       "       time_created date_created  up_votes  \\\n",
       "36237    1373122657   2013-07-06        26   \n",
       "22259    1344405704   2012-08-08         0   \n",
       "32604    1366986109   2013-04-26        10   \n",
       "56139    1413584696   2014-10-17         3   \n",
       "74126    1454953936   2016-02-08        15   \n",
       "50554    1399717947   2014-05-10       143   \n",
       "75655    1458016155   2016-03-15        20   \n",
       "69359    1446393385   2015-11-01         3   \n",
       "39915    1379245701   2013-09-15         5   \n",
       "7430     1254128949   2009-09-28         1   \n",
       "82912    1473191572   2016-09-06         5   \n",
       "16127    1315221573   2011-09-05         5   \n",
       "71130    1448946240   2015-12-01         4   \n",
       "66125    1439593155   2015-08-14        21   \n",
       "79514    1466166734   2016-06-17        19   \n",
       "26881    1357172473   2013-01-03         0   \n",
       "28562    1360947628   2013-02-15       282   \n",
       "20735    1338473062   2012-05-31       420   \n",
       "46658    1392000840   2014-02-10         0   \n",
       "29062    1361880640   2013-02-26         0   \n",
       "\n",
       "                                                   title  over_18  \\\n",
       "36237  Train carrying 70 tanks of flammable liquid de...    False   \n",
       "22259  The 3 Most Excellent Qualities that make Micha...    False   \n",
       "32604  Former Pakistani President Pervez Musharraf ha...    False   \n",
       "56139  Russia And China Want To Build The Longest Hig...    False   \n",
       "74126  President Obama requests $1.8 billion in emerg...    False   \n",
       "50554  China blames U.S. for stoking tensions in Sout...    False   \n",
       "75655  North Korean leader orders nuclear warhead tes...    False   \n",
       "69359  Australian Islamic Leader Says Muslim Schoolch...    False   \n",
       "39915          India test fires n-capable Agni-V missile    False   \n",
       "7430   A person apparently managed to extract some ``...    False   \n",
       "82912  Syrian warplanes allegedly drop chlorine bombs...    False   \n",
       "16127    Turkish Navy is NOT escorting aid ships to Gaza    False   \n",
       "71130        Body of downed Russian pilot back in Russia    False   \n",
       "66125        ISIS throw two men off a roof for being gay    False   \n",
       "79514  Transgender activist throws dildo at Quebec PM...    False   \n",
       "26881                       Iran claims two more drones.    False   \n",
       "28562  Conservative Cabinet minister:  Gay couples ca...    False   \n",
       "20735  Moscow Mistakenly Plants Field of Marijuana In...    False   \n",
       "46658  Copenhagen zoo kills baby giraffe and feeds to...    False   \n",
       "29062  PressTV-Iran presents new proposals at P5+1 talks    False   \n",
       "\n",
       "                     author  nth_content  \\\n",
       "36237              jpeuvion            1   \n",
       "22259     sexychickjune1231            1   \n",
       "32604               fuufnfr            1   \n",
       "56139          Dyspareuniac            1   \n",
       "74126      Stubborntilldate            1   \n",
       "50554              umwelter            1   \n",
       "75655             BrokenNin            1   \n",
       "69359               wgtt911            1   \n",
       "39915             antorobin            1   \n",
       "7430          ingreenheaven            1   \n",
       "82912                drfunk            1   \n",
       "16127        holy_maccaroni            1   \n",
       "71130             Merklin99            1   \n",
       "66125  baddimagarahulgandhi            1   \n",
       "79514            EyeingEris            1   \n",
       "26881     GuythrustDeepwood            1   \n",
       "28562            ukcreation            1   \n",
       "20735            kotleopold            1   \n",
       "46658         lickmytitties            1   \n",
       "29062                  nhyh            1   \n",
       "\n",
       "                                          title_filtered  title_length  \\\n",
       "36237  train carry 70 tank flammable liquid derails b...            13   \n",
       "22259  3 excellent quality make michael phelps unbeat...            10   \n",
       "32604  former pakistani president pervez musharraf “ ...            22   \n",
       "56139  russia china build long high-speed railway wor...            16   \n",
       "74126  president obama request 1.8 billion emergency ...            12   \n",
       "50554        china blame u.s. stoke tension south china             10   \n",
       "75655  north korean leader order nuclear warhead test...            14   \n",
       "69359  australian islamic leader say muslim schoolchi...            12   \n",
       "39915          india test fire n-capable agni-v missile              6   \n",
       "7430   person apparently manage extract `` sensitive ...            35   \n",
       "82912  syrian warplane allegedly drop chlorine bomb a...            13   \n",
       "16127                 turkish navy escort aid ship gaza              9   \n",
       "71130             body downed russian pilot back russia              8   \n",
       "66125                                throw two roof gay             10   \n",
       "79514  transgender activist throw dildo quebec pm cal...            10   \n",
       "26881                              iran claim two drone              5   \n",
       "28562  conservative cabinet minister gay couple provi...            13   \n",
       "20735  moscow mistakenly plant field marijuana instea...             9   \n",
       "46658        copenhagen zoo kill baby giraffe feed lion              9   \n",
       "29062       presstv-iran present new proposal p5+1 talk              7   \n",
       "\n",
       "            time_created2  ...  2  3  4  5  6  afternoon  early_morning  \\\n",
       "36237 2013-07-06 14:57:37  ...  0  0  0  1  0          1              0   \n",
       "22259 2012-08-08 06:01:44  ...  1  0  0  0  0          0              0   \n",
       "32604 2013-04-26 14:21:49  ...  0  0  1  0  0          1              0   \n",
       "56139 2014-10-17 22:24:56  ...  0  0  1  0  0          0              0   \n",
       "74126 2016-02-08 17:52:16  ...  0  0  0  0  0          1              0   \n",
       "50554 2014-05-10 10:32:27  ...  0  0  0  1  0          0              0   \n",
       "75655 2016-03-15 04:29:15  ...  0  0  0  0  0          0              1   \n",
       "69359 2015-11-01 15:56:25  ...  0  0  0  0  1          1              0   \n",
       "39915 2013-09-15 11:48:21  ...  0  0  0  0  1          0              0   \n",
       "7430  2009-09-28 09:09:09  ...  0  0  0  0  0          0              0   \n",
       "82912 2016-09-06 19:52:52  ...  0  0  0  0  0          0              0   \n",
       "16127 2011-09-05 11:19:33  ...  0  0  0  0  0          0              0   \n",
       "71130 2015-12-01 05:04:00  ...  0  0  0  0  0          0              0   \n",
       "66125 2015-08-14 22:59:15  ...  0  0  1  0  0          0              0   \n",
       "79514 2016-06-17 12:32:14  ...  0  0  1  0  0          1              0   \n",
       "26881 2013-01-03 00:21:13  ...  0  1  0  0  0          0              0   \n",
       "28562 2013-02-15 17:00:28  ...  0  0  1  0  0          1              0   \n",
       "20735 2012-05-31 14:04:22  ...  0  1  0  0  0          1              0   \n",
       "46658 2014-02-10 02:54:00  ...  0  0  0  0  0          0              1   \n",
       "29062 2013-02-26 12:10:40  ...  0  0  0  0  0          1              0   \n",
       "\n",
       "       evening  morning  night  \n",
       "36237        0        0      0  \n",
       "22259        0        1      0  \n",
       "32604        0        0      0  \n",
       "56139        0        0      1  \n",
       "74126        0        0      0  \n",
       "50554        0        1      0  \n",
       "75655        0        0      0  \n",
       "69359        0        0      0  \n",
       "39915        0        1      0  \n",
       "7430         0        1      0  \n",
       "82912        1        0      0  \n",
       "16127        0        1      0  \n",
       "71130        0        1      0  \n",
       "66125        0        0      1  \n",
       "79514        0        0      0  \n",
       "26881        0        0      1  \n",
       "28562        0        0      0  \n",
       "20735        0        0      0  \n",
       "46658        0        0      0  \n",
       "29062        0        0      0  \n",
       "\n",
       "[20 rows x 25 columns]"
      ]
     },
     "execution_count": 15,
     "metadata": {},
     "output_type": "execute_result"
    }
   ],
   "source": [
    "df2.sample(20)"
   ]
  },
  {
   "cell_type": "markdown",
   "metadata": {},
   "source": [
    "##### Sentiment analysis"
   ]
  },
  {
   "cell_type": "code",
   "execution_count": 16,
   "metadata": {},
   "outputs": [
    {
     "data": {
      "text/html": [
       "<div>\n",
       "<style scoped>\n",
       "    .dataframe tbody tr th:only-of-type {\n",
       "        vertical-align: middle;\n",
       "    }\n",
       "\n",
       "    .dataframe tbody tr th {\n",
       "        vertical-align: top;\n",
       "    }\n",
       "\n",
       "    .dataframe thead th {\n",
       "        text-align: right;\n",
       "    }\n",
       "</style>\n",
       "<table border=\"1\" class=\"dataframe\">\n",
       "  <thead>\n",
       "    <tr style=\"text-align: right;\">\n",
       "      <th></th>\n",
       "      <th>time_created</th>\n",
       "      <th>date_created</th>\n",
       "      <th>up_votes</th>\n",
       "      <th>title</th>\n",
       "      <th>over_18</th>\n",
       "      <th>author</th>\n",
       "      <th>nth_content</th>\n",
       "      <th>title_filtered</th>\n",
       "      <th>title_length</th>\n",
       "      <th>time_created2</th>\n",
       "      <th>...</th>\n",
       "      <th>4</th>\n",
       "      <th>5</th>\n",
       "      <th>6</th>\n",
       "      <th>afternoon</th>\n",
       "      <th>early_morning</th>\n",
       "      <th>evening</th>\n",
       "      <th>morning</th>\n",
       "      <th>night</th>\n",
       "      <th>Sentiment_Subjectivity</th>\n",
       "      <th>Sentiment_Polarity</th>\n",
       "    </tr>\n",
       "  </thead>\n",
       "  <tbody>\n",
       "    <tr>\n",
       "      <th>0</th>\n",
       "      <td>1201232046</td>\n",
       "      <td>2008-01-25</td>\n",
       "      <td>3</td>\n",
       "      <td>Scores killed in Pakistan clashes</td>\n",
       "      <td>False</td>\n",
       "      <td>polar</td>\n",
       "      <td>1</td>\n",
       "      <td>score kill pakistan clash</td>\n",
       "      <td>5</td>\n",
       "      <td>2008-01-25 03:34:06</td>\n",
       "      <td>...</td>\n",
       "      <td>1</td>\n",
       "      <td>0</td>\n",
       "      <td>0</td>\n",
       "      <td>0</td>\n",
       "      <td>1</td>\n",
       "      <td>0</td>\n",
       "      <td>0</td>\n",
       "      <td>0</td>\n",
       "      <td>0.0</td>\n",
       "      <td>-0.20</td>\n",
       "    </tr>\n",
       "    <tr>\n",
       "      <th>1</th>\n",
       "      <td>1201233290</td>\n",
       "      <td>2008-01-25</td>\n",
       "      <td>1</td>\n",
       "      <td>Jump-start economy: Give health care to all</td>\n",
       "      <td>False</td>\n",
       "      <td>fadi420</td>\n",
       "      <td>1</td>\n",
       "      <td>jump-start economy give health</td>\n",
       "      <td>8</td>\n",
       "      <td>2008-01-25 03:54:50</td>\n",
       "      <td>...</td>\n",
       "      <td>1</td>\n",
       "      <td>0</td>\n",
       "      <td>0</td>\n",
       "      <td>0</td>\n",
       "      <td>1</td>\n",
       "      <td>0</td>\n",
       "      <td>0</td>\n",
       "      <td>0</td>\n",
       "      <td>0.0</td>\n",
       "      <td>0.00</td>\n",
       "    </tr>\n",
       "    <tr>\n",
       "      <th>2</th>\n",
       "      <td>1201274720</td>\n",
       "      <td>2008-01-25</td>\n",
       "      <td>4</td>\n",
       "      <td>Council of Europe bashes EU&amp;UN terror blacklist</td>\n",
       "      <td>False</td>\n",
       "      <td>mhermans</td>\n",
       "      <td>1</td>\n",
       "      <td>council europe bash terror blacklist</td>\n",
       "      <td>7</td>\n",
       "      <td>2008-01-25 15:25:20</td>\n",
       "      <td>...</td>\n",
       "      <td>1</td>\n",
       "      <td>0</td>\n",
       "      <td>0</td>\n",
       "      <td>1</td>\n",
       "      <td>0</td>\n",
       "      <td>0</td>\n",
       "      <td>0</td>\n",
       "      <td>0</td>\n",
       "      <td>0.0</td>\n",
       "      <td>0.00</td>\n",
       "    </tr>\n",
       "    <tr>\n",
       "      <th>3</th>\n",
       "      <td>1201287889</td>\n",
       "      <td>2008-01-25</td>\n",
       "      <td>15</td>\n",
       "      <td>Hay presto! Farmer unveils the  illegal  mock-...</td>\n",
       "      <td>False</td>\n",
       "      <td>Armagedonovich</td>\n",
       "      <td>1</td>\n",
       "      <td>presto farmer unveils illegal mock-tudor castl...</td>\n",
       "      <td>18</td>\n",
       "      <td>2008-01-25 19:04:49</td>\n",
       "      <td>...</td>\n",
       "      <td>1</td>\n",
       "      <td>0</td>\n",
       "      <td>0</td>\n",
       "      <td>0</td>\n",
       "      <td>0</td>\n",
       "      <td>1</td>\n",
       "      <td>0</td>\n",
       "      <td>0</td>\n",
       "      <td>0.6</td>\n",
       "      <td>-0.45</td>\n",
       "    </tr>\n",
       "    <tr>\n",
       "      <th>4</th>\n",
       "      <td>1201289438</td>\n",
       "      <td>2008-01-25</td>\n",
       "      <td>5</td>\n",
       "      <td>Strikes, Protests and Gridlock at the Poland-U...</td>\n",
       "      <td>False</td>\n",
       "      <td>Clythos</td>\n",
       "      <td>1</td>\n",
       "      <td>strike protest gridlock poland-ukraine border</td>\n",
       "      <td>8</td>\n",
       "      <td>2008-01-25 19:30:38</td>\n",
       "      <td>...</td>\n",
       "      <td>1</td>\n",
       "      <td>0</td>\n",
       "      <td>0</td>\n",
       "      <td>0</td>\n",
       "      <td>0</td>\n",
       "      <td>1</td>\n",
       "      <td>0</td>\n",
       "      <td>0</td>\n",
       "      <td>0.0</td>\n",
       "      <td>0.00</td>\n",
       "    </tr>\n",
       "  </tbody>\n",
       "</table>\n",
       "<p>5 rows × 27 columns</p>\n",
       "</div>"
      ],
      "text/plain": [
       "   time_created date_created  up_votes  \\\n",
       "0    1201232046   2008-01-25         3   \n",
       "1    1201233290   2008-01-25         1   \n",
       "2    1201274720   2008-01-25         4   \n",
       "3    1201287889   2008-01-25        15   \n",
       "4    1201289438   2008-01-25         5   \n",
       "\n",
       "                                               title  over_18          author  \\\n",
       "0                  Scores killed in Pakistan clashes    False           polar   \n",
       "1       Jump-start economy: Give health care to all     False         fadi420   \n",
       "2    Council of Europe bashes EU&UN terror blacklist    False        mhermans   \n",
       "3  Hay presto! Farmer unveils the  illegal  mock-...    False  Armagedonovich   \n",
       "4  Strikes, Protests and Gridlock at the Poland-U...    False         Clythos   \n",
       "\n",
       "   nth_content                                     title_filtered  \\\n",
       "0            1                         score kill pakistan clash    \n",
       "1            1                    jump-start economy give health    \n",
       "2            1              council europe bash terror blacklist    \n",
       "3            1  presto farmer unveils illegal mock-tudor castl...   \n",
       "4            1     strike protest gridlock poland-ukraine border    \n",
       "\n",
       "   title_length       time_created2  ...  4  5  6  afternoon  early_morning  \\\n",
       "0             5 2008-01-25 03:34:06  ...  1  0  0          0              1   \n",
       "1             8 2008-01-25 03:54:50  ...  1  0  0          0              1   \n",
       "2             7 2008-01-25 15:25:20  ...  1  0  0          1              0   \n",
       "3            18 2008-01-25 19:04:49  ...  1  0  0          0              0   \n",
       "4             8 2008-01-25 19:30:38  ...  1  0  0          0              0   \n",
       "\n",
       "   evening  morning  night  Sentiment_Subjectivity  Sentiment_Polarity  \n",
       "0        0        0      0                     0.0               -0.20  \n",
       "1        0        0      0                     0.0                0.00  \n",
       "2        0        0      0                     0.0                0.00  \n",
       "3        1        0      0                     0.6               -0.45  \n",
       "4        1        0      0                     0.0                0.00  \n",
       "\n",
       "[5 rows x 27 columns]"
      ]
     },
     "execution_count": 16,
     "metadata": {},
     "output_type": "execute_result"
    }
   ],
   "source": [
    "from textblob import TextBlob\n",
    "\n",
    "def subjectivity(text):\n",
    "    return TextBlob(text).sentiment.subjectivity\n",
    "\n",
    "def polarity(text):\n",
    "    return TextBlob(text).sentiment.polarity\n",
    "\n",
    "df2['Sentiment_Subjectivity'] = df2['title'].apply(subjectivity)\n",
    "df2['Sentiment_Polarity'] = df2['title'].apply(polarity)\n",
    "df2.head()"
   ]
  },
  {
   "cell_type": "code",
   "execution_count": 17,
   "metadata": {},
   "outputs": [
    {
     "name": "stdout",
     "output_type": "stream",
     "text": [
      "Wall time: 2.1 s\n"
     ]
    }
   ],
   "source": [
    "%%time\n",
    "from sklearn.feature_extraction.text import TfidfVectorizer\n",
    "tf_vectorizer = TfidfVectorizer(ngram_range=(1,2), norm=None, min_df=20, stop_words=\"english\", max_df=0.8)\n",
    "tf_matrix = tf_vectorizer.fit_transform(df2['title_filtered'])"
   ]
  },
  {
   "cell_type": "code",
   "execution_count": 18,
   "metadata": {},
   "outputs": [
    {
     "data": {
      "text/plain": [
       "(85838, 5304)"
      ]
     },
     "execution_count": 18,
     "metadata": {},
     "output_type": "execute_result"
    }
   ],
   "source": [
    "tf_matrix.shape"
   ]
  },
  {
   "cell_type": "markdown",
   "metadata": {},
   "source": [
    "Using raw metrix from tf-idf always led to meomory error. So I decided to use **SVD (singular value decomposition)** to reduce dimentions.With only 25 features after SVD, the computation time dropped dramatically and the performance was still fairly satisfying."
   ]
  },
  {
   "cell_type": "code",
   "execution_count": 19,
   "metadata": {},
   "outputs": [
    {
     "name": "stdout",
     "output_type": "stream",
     "text": [
      "Wall time: 428 ms\n"
     ]
    }
   ],
   "source": [
    "%%time\n",
    "from sklearn.decomposition import TruncatedSVD\n",
    "svd = TruncatedSVD(n_components=25, algorithm='arpack')\n",
    "svd_matrix = svd.fit_transform(tf_matrix)\n",
    "svd_feature = pd.DataFrame(svd_matrix)\n",
    "svd_feature.columns = ['svd_word_' + str(i) for i in range(25)]"
   ]
  },
  {
   "cell_type": "code",
   "execution_count": 20,
   "metadata": {},
   "outputs": [
    {
     "data": {
      "text/html": [
       "<div>\n",
       "<style scoped>\n",
       "    .dataframe tbody tr th:only-of-type {\n",
       "        vertical-align: middle;\n",
       "    }\n",
       "\n",
       "    .dataframe tbody tr th {\n",
       "        vertical-align: top;\n",
       "    }\n",
       "\n",
       "    .dataframe thead th {\n",
       "        text-align: right;\n",
       "    }\n",
       "</style>\n",
       "<table border=\"1\" class=\"dataframe\">\n",
       "  <thead>\n",
       "    <tr style=\"text-align: right;\">\n",
       "      <th></th>\n",
       "      <th>time_created</th>\n",
       "      <th>date_created</th>\n",
       "      <th>up_votes</th>\n",
       "      <th>title</th>\n",
       "      <th>over_18</th>\n",
       "      <th>author</th>\n",
       "      <th>nth_content</th>\n",
       "      <th>title_filtered</th>\n",
       "      <th>title_length</th>\n",
       "      <th>time_created2</th>\n",
       "      <th>...</th>\n",
       "      <th>svd_word_15</th>\n",
       "      <th>svd_word_16</th>\n",
       "      <th>svd_word_17</th>\n",
       "      <th>svd_word_18</th>\n",
       "      <th>svd_word_19</th>\n",
       "      <th>svd_word_20</th>\n",
       "      <th>svd_word_21</th>\n",
       "      <th>svd_word_22</th>\n",
       "      <th>svd_word_23</th>\n",
       "      <th>svd_word_24</th>\n",
       "    </tr>\n",
       "  </thead>\n",
       "  <tbody>\n",
       "    <tr>\n",
       "      <th>0</th>\n",
       "      <td>1201232046</td>\n",
       "      <td>2008-01-25</td>\n",
       "      <td>3</td>\n",
       "      <td>Scores killed in Pakistan clashes</td>\n",
       "      <td>False</td>\n",
       "      <td>polar</td>\n",
       "      <td>1</td>\n",
       "      <td>score kill pakistan clash</td>\n",
       "      <td>5</td>\n",
       "      <td>2008-01-25 03:34:06</td>\n",
       "      <td>...</td>\n",
       "      <td>-1.212058</td>\n",
       "      <td>-0.314427</td>\n",
       "      <td>0.026195</td>\n",
       "      <td>0.144628</td>\n",
       "      <td>0.620931</td>\n",
       "      <td>-0.961978</td>\n",
       "      <td>-0.152650</td>\n",
       "      <td>0.043705</td>\n",
       "      <td>-0.201367</td>\n",
       "      <td>0.370855</td>\n",
       "    </tr>\n",
       "    <tr>\n",
       "      <th>1</th>\n",
       "      <td>1201233290</td>\n",
       "      <td>2008-01-25</td>\n",
       "      <td>1</td>\n",
       "      <td>Jump-start economy: Give health care to all</td>\n",
       "      <td>False</td>\n",
       "      <td>fadi420</td>\n",
       "      <td>1</td>\n",
       "      <td>jump-start economy give health</td>\n",
       "      <td>8</td>\n",
       "      <td>2008-01-25 03:54:50</td>\n",
       "      <td>...</td>\n",
       "      <td>0.206808</td>\n",
       "      <td>-0.006253</td>\n",
       "      <td>0.137379</td>\n",
       "      <td>0.001299</td>\n",
       "      <td>0.003819</td>\n",
       "      <td>-0.122178</td>\n",
       "      <td>-0.063235</td>\n",
       "      <td>-0.014595</td>\n",
       "      <td>0.141418</td>\n",
       "      <td>-0.005541</td>\n",
       "    </tr>\n",
       "    <tr>\n",
       "      <th>2</th>\n",
       "      <td>1201274720</td>\n",
       "      <td>2008-01-25</td>\n",
       "      <td>4</td>\n",
       "      <td>Council of Europe bashes EU&amp;UN terror blacklist</td>\n",
       "      <td>False</td>\n",
       "      <td>mhermans</td>\n",
       "      <td>1</td>\n",
       "      <td>council europe bash terror blacklist</td>\n",
       "      <td>7</td>\n",
       "      <td>2008-01-25 15:25:20</td>\n",
       "      <td>...</td>\n",
       "      <td>0.054443</td>\n",
       "      <td>-0.248105</td>\n",
       "      <td>0.282851</td>\n",
       "      <td>-0.090122</td>\n",
       "      <td>0.153322</td>\n",
       "      <td>0.031190</td>\n",
       "      <td>-0.196655</td>\n",
       "      <td>0.036538</td>\n",
       "      <td>0.210157</td>\n",
       "      <td>0.059161</td>\n",
       "    </tr>\n",
       "    <tr>\n",
       "      <th>3</th>\n",
       "      <td>1201287889</td>\n",
       "      <td>2008-01-25</td>\n",
       "      <td>15</td>\n",
       "      <td>Hay presto! Farmer unveils the  illegal  mock-...</td>\n",
       "      <td>False</td>\n",
       "      <td>Armagedonovich</td>\n",
       "      <td>1</td>\n",
       "      <td>presto farmer unveils illegal mock-tudor castl...</td>\n",
       "      <td>18</td>\n",
       "      <td>2008-01-25 19:04:49</td>\n",
       "      <td>...</td>\n",
       "      <td>0.070824</td>\n",
       "      <td>-0.026357</td>\n",
       "      <td>-0.072573</td>\n",
       "      <td>0.010440</td>\n",
       "      <td>-0.099353</td>\n",
       "      <td>-0.217995</td>\n",
       "      <td>-0.012128</td>\n",
       "      <td>0.065066</td>\n",
       "      <td>0.047915</td>\n",
       "      <td>-0.149351</td>\n",
       "    </tr>\n",
       "    <tr>\n",
       "      <th>4</th>\n",
       "      <td>1201289438</td>\n",
       "      <td>2008-01-25</td>\n",
       "      <td>5</td>\n",
       "      <td>Strikes, Protests and Gridlock at the Poland-U...</td>\n",
       "      <td>False</td>\n",
       "      <td>Clythos</td>\n",
       "      <td>1</td>\n",
       "      <td>strike protest gridlock poland-ukraine border</td>\n",
       "      <td>8</td>\n",
       "      <td>2008-01-25 19:30:38</td>\n",
       "      <td>...</td>\n",
       "      <td>-0.419275</td>\n",
       "      <td>-0.605568</td>\n",
       "      <td>0.008199</td>\n",
       "      <td>-0.990052</td>\n",
       "      <td>0.502644</td>\n",
       "      <td>0.679367</td>\n",
       "      <td>-1.219191</td>\n",
       "      <td>-0.475144</td>\n",
       "      <td>-1.654060</td>\n",
       "      <td>3.335281</td>\n",
       "    </tr>\n",
       "  </tbody>\n",
       "</table>\n",
       "<p>5 rows × 52 columns</p>\n",
       "</div>"
      ],
      "text/plain": [
       "   time_created date_created  up_votes  \\\n",
       "0    1201232046   2008-01-25         3   \n",
       "1    1201233290   2008-01-25         1   \n",
       "2    1201274720   2008-01-25         4   \n",
       "3    1201287889   2008-01-25        15   \n",
       "4    1201289438   2008-01-25         5   \n",
       "\n",
       "                                               title  over_18          author  \\\n",
       "0                  Scores killed in Pakistan clashes    False           polar   \n",
       "1       Jump-start economy: Give health care to all     False         fadi420   \n",
       "2    Council of Europe bashes EU&UN terror blacklist    False        mhermans   \n",
       "3  Hay presto! Farmer unveils the  illegal  mock-...    False  Armagedonovich   \n",
       "4  Strikes, Protests and Gridlock at the Poland-U...    False         Clythos   \n",
       "\n",
       "   nth_content                                     title_filtered  \\\n",
       "0            1                         score kill pakistan clash    \n",
       "1            1                    jump-start economy give health    \n",
       "2            1              council europe bash terror blacklist    \n",
       "3            1  presto farmer unveils illegal mock-tudor castl...   \n",
       "4            1     strike protest gridlock poland-ukraine border    \n",
       "\n",
       "   title_length       time_created2  ...  svd_word_15  svd_word_16  \\\n",
       "0             5 2008-01-25 03:34:06  ...    -1.212058    -0.314427   \n",
       "1             8 2008-01-25 03:54:50  ...     0.206808    -0.006253   \n",
       "2             7 2008-01-25 15:25:20  ...     0.054443    -0.248105   \n",
       "3            18 2008-01-25 19:04:49  ...     0.070824    -0.026357   \n",
       "4             8 2008-01-25 19:30:38  ...    -0.419275    -0.605568   \n",
       "\n",
       "  svd_word_17  svd_word_18  svd_word_19  svd_word_20  svd_word_21  \\\n",
       "0    0.026195     0.144628     0.620931    -0.961978    -0.152650   \n",
       "1    0.137379     0.001299     0.003819    -0.122178    -0.063235   \n",
       "2    0.282851    -0.090122     0.153322     0.031190    -0.196655   \n",
       "3   -0.072573     0.010440    -0.099353    -0.217995    -0.012128   \n",
       "4    0.008199    -0.990052     0.502644     0.679367    -1.219191   \n",
       "\n",
       "   svd_word_22  svd_word_23  svd_word_24  \n",
       "0     0.043705    -0.201367     0.370855  \n",
       "1    -0.014595     0.141418    -0.005541  \n",
       "2     0.036538     0.210157     0.059161  \n",
       "3     0.065066     0.047915    -0.149351  \n",
       "4    -0.475144    -1.654060     3.335281  \n",
       "\n",
       "[5 rows x 52 columns]"
      ]
     },
     "execution_count": 20,
     "metadata": {},
     "output_type": "execute_result"
    }
   ],
   "source": [
    "df2.reset_index(inplace=True, drop=True)\n",
    "df3 = pd.concat([df2, svd_feature], axis=1)\n",
    "df3.head()"
   ]
  },
  {
   "cell_type": "code",
   "execution_count": 21,
   "metadata": {},
   "outputs": [],
   "source": [
    "df3.to_csv('processed data.csv', index=False)"
   ]
  },
  {
   "cell_type": "code",
   "execution_count": 13,
   "metadata": {},
   "outputs": [],
   "source": [
    "df3 = pd.read_csv('processed data.csv')"
   ]
  },
  {
   "cell_type": "code",
   "execution_count": 14,
   "metadata": {},
   "outputs": [],
   "source": [
    "def up_votes_category(up_votes):\n",
    "    if up_votes>20:\n",
    "        return 'high'\n",
    "    return 'low'\n",
    "\n",
    "df3['up_votes_category'] = df3.up_votes.apply(up_votes_category)"
   ]
  },
  {
   "cell_type": "code",
   "execution_count": 15,
   "metadata": {},
   "outputs": [],
   "source": [
    "low = df3[df3.up_votes_category=='low']\n",
    "high = df3[df3.up_votes_category=='high']"
   ]
  },
  {
   "cell_type": "code",
   "execution_count": 16,
   "metadata": {},
   "outputs": [],
   "source": [
    "min_number = df3.up_votes_category.value_counts().min()"
   ]
  },
  {
   "cell_type": "code",
   "execution_count": 17,
   "metadata": {},
   "outputs": [
    {
     "data": {
      "text/plain": [
       "low     67846\n",
       "high    17992\n",
       "Name: up_votes_category, dtype: int64"
      ]
     },
     "execution_count": 17,
     "metadata": {},
     "output_type": "execute_result"
    }
   ],
   "source": [
    "df3.up_votes_category.value_counts()"
   ]
  },
  {
   "cell_type": "code",
   "execution_count": 18,
   "metadata": {},
   "outputs": [],
   "source": [
    "data = pd.concat([low.sample(min_number), high.sample(min_number)], axis=0)"
   ]
  },
  {
   "cell_type": "code",
   "execution_count": 19,
   "metadata": {},
   "outputs": [
    {
     "data": {
      "text/plain": [
       "(35984, 53)"
      ]
     },
     "execution_count": 19,
     "metadata": {},
     "output_type": "execute_result"
    }
   ],
   "source": [
    "data.shape"
   ]
  },
  {
   "cell_type": "markdown",
   "metadata": {},
   "source": [
    "### Random forest classification"
   ]
  },
  {
   "cell_type": "code",
   "execution_count": 50,
   "metadata": {},
   "outputs": [],
   "source": [
    "y = data.up_votes_category\n",
    "X = data[['nth_content','title_length',0,1,2,3,4,5,6,'afternoon','early_morning','evening','morning','night','Sentiment_Subjectivity','Sentiment_Polarity','svd_word_0','svd_word_1','svd_word_2','svd_word_3','svd_word_4','svd_word_5','svd_word_6','svd_word_7','svd_word_8','svd_word_9','svd_word_10','svd_word_11','svd_word_12','svd_word_13','svd_word_14','svd_word_15','svd_word_16','svd_word_17','svd_word_18','svd_word_19','svd_word_20','svd_word_21','svd_word_22','svd_word_23','svd_word_24']]"
   ]
  },
  {
   "cell_type": "code",
   "execution_count": 51,
   "metadata": {},
   "outputs": [],
   "source": [
    "from sklearn.model_selection import train_test_split\n",
    "X_train, X_test, y_train, y_test = train_test_split(X, y, test_size=0.2, random_state=2019)"
   ]
  },
  {
   "cell_type": "code",
   "execution_count": 52,
   "metadata": {},
   "outputs": [
    {
     "name": "stdout",
     "output_type": "stream",
     "text": [
      "Wall time: 1.62 s\n"
     ]
    }
   ],
   "source": [
    "%%time\n",
    "from sklearn.ensemble import RandomForestClassifier\n",
    "rfc = RandomForestClassifier(n_estimators=100, max_depth=2, random_state=0)\n",
    "rfc.fit(X_train, y_train) \n",
    "\n",
    "y_test_pred = rfc.predict(X_test)\n",
    "y_train_pred = rfc.predict(X_train)"
   ]
  },
  {
   "cell_type": "code",
   "execution_count": 53,
   "metadata": {},
   "outputs": [
    {
     "name": "stdout",
     "output_type": "stream",
     "text": [
      "              precision    recall  f1-score   support\n",
      "\n",
      "        high       0.59      0.53      0.56     14370\n",
      "         low       0.57      0.63      0.60     14417\n",
      "\n",
      "    accuracy                           0.58     28787\n",
      "   macro avg       0.58      0.58      0.58     28787\n",
      "weighted avg       0.58      0.58      0.58     28787\n",
      "\n",
      "              precision    recall  f1-score   support\n",
      "\n",
      "        high       0.59      0.51      0.55      3622\n",
      "         low       0.56      0.64      0.60      3575\n",
      "\n",
      "    accuracy                           0.57      7197\n",
      "   macro avg       0.58      0.57      0.57      7197\n",
      "weighted avg       0.58      0.57      0.57      7197\n",
      "\n"
     ]
    }
   ],
   "source": [
    "from sklearn.metrics import classification_report\n",
    "\n",
    "print(classification_report(y_train, y_train_pred))\n",
    "print(classification_report(y_test, y_test_pred))"
   ]
  },
  {
   "cell_type": "markdown",
   "metadata": {},
   "source": [
    "### Word embedding, RNN"
   ]
  },
  {
   "cell_type": "code",
   "execution_count": 9,
   "metadata": {},
   "outputs": [],
   "source": [
    "tokenized_titles = []\n",
    "for title in df.title:\n",
    "    tokenized_titles.append(filter_word(title))"
   ]
  },
  {
   "cell_type": "code",
   "execution_count": 10,
   "metadata": {},
   "outputs": [
    {
     "name": "stdout",
     "output_type": "stream",
     "text": [
      "73\n"
     ]
    }
   ],
   "source": [
    "max_length = 0\n",
    "for title in tokenized_titles:\n",
    "#     print(title)\n",
    "    l = len(title.split())\n",
    "    if max_length < l:\n",
    "        max_length = l\n",
    "\n",
    "print(max_length)"
   ]
  },
  {
   "cell_type": "code",
   "execution_count": 11,
   "metadata": {},
   "outputs": [],
   "source": [
    "length = {}\n",
    "for title in tokenized_titles:\n",
    "    l = len(title.split())\n",
    "    length[l] = length.get(l, 0)+1"
   ]
  },
  {
   "cell_type": "code",
   "execution_count": 12,
   "metadata": {},
   "outputs": [],
   "source": [
    "from operator import itemgetter\n",
    "sorted_length = sorted(length.items(),\n",
    "                                  reverse=False,\n",
    "                                  key=itemgetter(0))"
   ]
  },
  {
   "cell_type": "code",
   "execution_count": 13,
   "metadata": {},
   "outputs": [
    {
     "data": {
      "text/plain": [
       "63"
      ]
     },
     "execution_count": 13,
     "metadata": {},
     "output_type": "execute_result"
    }
   ],
   "source": [
    "len(sorted_length)"
   ]
  },
  {
   "cell_type": "code",
   "execution_count": 14,
   "metadata": {
    "scrolled": true
   },
   "outputs": [
    {
     "data": {
      "image/png": "[encoded data removed]",
      "text/plain": [
       "<Figure size 432x288 with 1 Axes>"
      ]
     },
     "metadata": {},
     "output_type": "display_data"
    }
   ],
   "source": [
    "num_top_length_to_plot = len(sorted_length)\n",
    "length = [l for l, count in sorted_length]\n",
    "counts = [count for l, count in sorted_length]\n",
    "plt.bar(range(len(sorted_length)), counts)\n",
    "# plt.xticks(range(len(sorted_length)), length, rotation=45)\n",
    "plt.xlabel('Title length')\n",
    "plt.ylabel('Raw count')\n",
    "plt.show()"
   ]
  },
  {
   "cell_type": "code",
   "execution_count": 15,
   "metadata": {},
   "outputs": [],
   "source": [
    "word_counts = {}\n",
    "for tokenized_title in tokenized_titles:\n",
    "    for word in tokenized_title.split():\n",
    "        word_counts[word.strip()] = word_counts.get(word.strip(), 0) + 1\n",
    "        \n",
    "from operator import itemgetter\n",
    "sorted_word_counts = sorted(word_counts.items(),\n",
    "                                  reverse=True,\n",
    "                                  key=itemgetter(1))"
   ]
  },
  {
   "cell_type": "code",
   "execution_count": 16,
   "metadata": {},
   "outputs": [],
   "source": [
    "vocab_size = 2000\n",
    "word_to_idx = {}\n",
    "idx_to_word = {}\n",
    "for i, (word, _) in enumerate(sorted_word_counts[:vocab_size]):\n",
    "    word_to_idx[word.strip()] = i+1\n",
    "    idx_to_word[i+1] = word.strip()"
   ]
  },
  {
   "cell_type": "code",
   "execution_count": 17,
   "metadata": {},
   "outputs": [
    {
     "data": {
      "text/plain": [
       "2000"
      ]
     },
     "execution_count": 17,
     "metadata": {},
     "output_type": "execute_result"
    }
   ],
   "source": [
    "len(idx_to_word)"
   ]
  },
  {
   "cell_type": "code",
   "execution_count": 18,
   "metadata": {},
   "outputs": [
    {
     "name": "stderr",
     "output_type": "stream",
     "text": [
      "Using TensorFlow backend.\n"
     ]
    }
   ],
   "source": [
    "from keras.preprocessing import sequence\n",
    "\n",
    "X = []\n",
    "for tokenized_title in tokenized_titles:\n",
    "    title_idx = []\n",
    "    for word in tokenized_title.split():\n",
    "        if word_to_idx.get(word.strip(), 0) > 0:\n",
    "            title_idx.append(word_to_idx[word.strip()])\n",
    "        else:\n",
    "            title_idx.append(0)\n",
    "    X.append(title_idx)\n",
    "\n",
    "X = sequence.pad_sequences(X, maxlen=20)"
   ]
  },
  {
   "cell_type": "code",
   "execution_count": 19,
   "metadata": {},
   "outputs": [
    {
     "data": {
      "text/plain": [
       "(85838, 20)"
      ]
     },
     "execution_count": 19,
     "metadata": {},
     "output_type": "execute_result"
    }
   ],
   "source": [
    "X.shape"
   ]
  },
  {
   "cell_type": "code",
   "execution_count": 20,
   "metadata": {},
   "outputs": [],
   "source": [
    "def up_votes_category(up_votes):\n",
    "    if up_votes>20:\n",
    "        return 1\n",
    "    return 0\n",
    "\n",
    "y = [] \n",
    "for up_votes in df.up_votes:\n",
    "    y.append(up_votes_category(up_votes))"
   ]
  },
  {
   "cell_type": "code",
   "execution_count": 21,
   "metadata": {},
   "outputs": [
    {
     "data": {
      "text/plain": [
       "85838"
      ]
     },
     "execution_count": 21,
     "metadata": {},
     "output_type": "execute_result"
    }
   ],
   "source": [
    "len(y)"
   ]
  },
  {
   "cell_type": "code",
   "execution_count": 44,
   "metadata": {},
   "outputs": [
    {
     "data": {
      "text/plain": [
       "17992"
      ]
     },
     "execution_count": 44,
     "metadata": {},
     "output_type": "execute_result"
    }
   ],
   "source": [
    "y[y==1].sum()"
   ]
  },
  {
   "cell_type": "code",
   "execution_count": 47,
   "metadata": {},
   "outputs": [],
   "source": [
    "import numpy as np\n",
    "np.random.seed(seed=2019)\n",
    "\n",
    "y = np.array(y)\n",
    "mask_1 = y==1\n",
    "X_1 = X[mask_1]\n",
    "y_1 = y[mask_1]\n",
    "\n",
    "mask_2 = y==0\n",
    "X_2 = X[mask_2]\n",
    "y_2 = y[mask_2]\n",
    "random_idx = np.random.permutation(X_2.shape[0])\n",
    "X_2 = X_2[random_idx[:X_1.shape[0]]]\n",
    "y_2 = y_2[random_idx[:X_1.shape[0]]]\n",
    "# min_number = df3.up_votes_category.value_counts().min()\n",
    "# data = pd.concat([low.sample(min_number), high.sample(min_number)], axis=0)"
   ]
  },
  {
   "cell_type": "code",
   "execution_count": 50,
   "metadata": {},
   "outputs": [],
   "source": [
    "X_balance = np.concatenate((X_1, X_2), axis=0)\n",
    "y_balance = np.concatenate((y_1, y_2), axis=0)"
   ]
  },
  {
   "cell_type": "code",
   "execution_count": 56,
   "metadata": {},
   "outputs": [],
   "source": [
    "import numpy as np\n",
    "np.random.seed(seed=2019)\n",
    "\n",
    "random_idx = np.random.permutation(X_balance.shape[0])\n",
    "train_num = int(X_balance.shape[0]*0.8)\n",
    "X_train = X_balance[random_idx[:train_num]]\n",
    "X_test = X_balance[random_idx[train_num:]]\n",
    "y_train = y_balance[random_idx[:train_num]]\n",
    "y_test = y_balance[random_idx[train_num:]]"
   ]
  },
  {
   "cell_type": "code",
   "execution_count": 61,
   "metadata": {},
   "outputs": [
    {
     "data": {
      "text/plain": [
       "(35984, 20)"
      ]
     },
     "execution_count": 61,
     "metadata": {},
     "output_type": "execute_result"
    }
   ],
   "source": [
    "X_balance.shape"
   ]
  },
  {
   "cell_type": "code",
   "execution_count": 57,
   "metadata": {},
   "outputs": [
    {
     "data": {
      "text/plain": [
       "(28787, 20)"
      ]
     },
     "execution_count": 57,
     "metadata": {},
     "output_type": "execute_result"
    }
   ],
   "source": [
    "X_train.shape"
   ]
  },
  {
   "cell_type": "code",
   "execution_count": 24,
   "metadata": {},
   "outputs": [
    {
     "name": "stdout",
     "output_type": "stream",
     "text": [
      "Found 15173 word vectors.\n"
     ]
    }
   ],
   "source": [
    "word_to_embedding = {}\n",
    "\n",
    "# we will use the 100-dimensional embedding vectors\n",
    "with open(\"pretrained_word2vec_vectors.txt\") as f:\n",
    "    # each row represents a word vector\n",
    "    for idx, line in enumerate(f):\n",
    "        if idx>0:\n",
    "            values = line.split()\n",
    "            # the first part is word\n",
    "            word = values[0]\n",
    "            # the rest of the values form the embedding vector\n",
    "            embedding = np.asarray(values[1:], dtype='float32')\n",
    "            embedding = embedding/np.linalg.norm(embedding) # L2 norm\n",
    "            word_to_embedding[word] = embedding\n",
    "\n",
    "print('Found %s word vectors.' % len(word_to_embedding))"
   ]
  },
  {
   "cell_type": "code",
   "execution_count": 25,
   "metadata": {},
   "outputs": [],
   "source": [
    "embedding_dim = 100\n",
    "\n",
    "embedding_matrix = np.zeros((vocab_size, embedding_dim))\n",
    "for idx in range(vocab_size):\n",
    "    word = idx_to_word[idx+1]\n",
    "    if word in word_to_embedding:\n",
    "        embedding_matrix[idx] = word_to_embedding[word]"
   ]
  },
  {
   "cell_type": "code",
   "execution_count": 72,
   "metadata": {},
   "outputs": [],
   "source": [
    "from keras.models import Sequential\n",
    "from keras.layers import Embedding, LSTM, Dense\n",
    "rnn_model = Sequential()\n",
    "rnn_model.add(Embedding(vocab_size, embedding_dim, input_length=20))\n",
    "rnn_model.add(LSTM(64))\n",
    "rnn_model.add(Dense(64, activation='relu'))\n",
    "rnn_model.add(Dense(1, activation='sigmoid'))\n",
    "\n",
    "# load the GloVe embeddings in the model\n",
    "rnn_model.layers[0].set_weights([embedding_matrix])\n",
    "rnn_model.layers[0].trainable = False"
   ]
  },
  {
   "cell_type": "code",
   "execution_count": 73,
   "metadata": {},
   "outputs": [
    {
     "name": "stdout",
     "output_type": "stream",
     "text": [
      "_________________________________________________________________\n",
      "Layer (type)                 Output Shape              Param #   \n",
      "=================================================================\n",
      "embedding_4 (Embedding)      (None, 20, 100)           200000    \n",
      "_________________________________________________________________\n",
      "lstm_3 (LSTM)                (None, 64)                42240     \n",
      "_________________________________________________________________\n",
      "dense_5 (Dense)              (None, 64)                4160      \n",
      "_________________________________________________________________\n",
      "dense_6 (Dense)              (None, 1)                 65        \n",
      "=================================================================\n",
      "Total params: 246,465\n",
      "Trainable params: 46,465\n",
      "Non-trainable params: 200,000\n",
      "_________________________________________________________________\n"
     ]
    }
   ],
   "source": [
    "rnn_model.summary()"
   ]
  },
  {
   "cell_type": "code",
   "execution_count": 75,
   "metadata": {},
   "outputs": [
    {
     "name": "stdout",
     "output_type": "stream",
     "text": [
      "Train on 23029 samples, validate on 5758 samples\n",
      "Epoch 1/10\n",
      "23029/23029 [==============================] - 30s 1ms/step - loss: 0.6770 - acc: 0.5727 - val_loss: 0.6806 - val_acc: 0.5651\n",
      "Epoch 2/10\n",
      "23029/23029 [==============================] - 28s 1ms/step - loss: 0.6751 - acc: 0.5773 - val_loss: 0.6794 - val_acc: 0.5656\n",
      "Epoch 3/10\n",
      "23029/23029 [==============================] - 29s 1ms/step - loss: 0.6736 - acc: 0.5794 - val_loss: 0.6784 - val_acc: 0.5689\n",
      "Epoch 4/10\n",
      "23029/23029 [==============================] - 28s 1ms/step - loss: 0.6710 - acc: 0.5827 - val_loss: 0.6844 - val_acc: 0.5592\n",
      "Epoch 5/10\n",
      "23029/23029 [==============================] - 28s 1ms/step - loss: 0.6696 - acc: 0.5859 - val_loss: 0.6783 - val_acc: 0.5677\n",
      "Epoch 6/10\n",
      "23029/23029 [==============================] - 29s 1ms/step - loss: 0.6677 - acc: 0.5891 - val_loss: 0.6784 - val_acc: 0.5650\n",
      "Epoch 7/10\n",
      "23029/23029 [==============================] - 28s 1ms/step - loss: 0.6652 - acc: 0.5926 - val_loss: 0.6820 - val_acc: 0.5656\n",
      "Epoch 8/10\n",
      "23029/23029 [==============================] - 28s 1ms/step - loss: 0.6626 - acc: 0.5959 - val_loss: 0.6880 - val_acc: 0.5686\n",
      "Epoch 9/10\n",
      "23029/23029 [==============================] - 29s 1ms/step - loss: 0.6595 - acc: 0.6010 - val_loss: 0.6863 - val_acc: 0.5636\n",
      "Epoch 10/10\n",
      "23029/23029 [==============================] - 29s 1ms/step - loss: 0.6557 - acc: 0.6071 - val_loss: 0.6898 - val_acc: 0.5617\n"
     ]
    }
   ],
   "source": [
    "# compile and train the model\n",
    "rnn_model.compile(optimizer='adam',\n",
    "                  loss='binary_crossentropy',\n",
    "                  metrics=['acc'])\n",
    "history = rnn_model.fit(X_train, y_train,\n",
    "                        validation_split=0.2,\n",
    "                        epochs=10,\n",
    "                        batch_size=32)"
   ]
  },
  {
   "cell_type": "code",
   "execution_count": 66,
   "metadata": {},
   "outputs": [
    {
     "data": {
      "image/png": "[encoded data removed]",
      "text/plain": [
       "<Figure size 432x288 with 1 Axes>"
      ]
     },
     "metadata": {},
     "output_type": "display_data"
    }
   ],
   "source": [
    "%matplotlib inline\n",
    "import matplotlib.pyplot as plt\n",
    "import numpy as np\n",
    "\n",
    "# plot the accuracy rates for each epoch on training and validation data\n",
    "acc = history.history['acc']\n",
    "val_acc = history.history['val_acc']\n",
    "epochs = range(1, len(acc) + 1)\n",
    "plt.plot(epochs, acc, 'bo', label='Training acc')\n",
    "plt.plot(epochs, val_acc, 'b', label='Validation acc')\n",
    "plt.title('Training and validation accuracy')\n",
    "plt.legend()\n",
    "plt.show()"
   ]
  },
  {
   "cell_type": "code",
   "execution_count": 67,
   "metadata": {},
   "outputs": [
    {
     "name": "stdout",
     "output_type": "stream",
     "text": [
      "7197/7197 [==============================] - 3s 462us/step\n",
      "Test accuracy: 0.5945532860831451\n"
     ]
    }
   ],
   "source": [
    "test_loss, test_acc = rnn_model.evaluate(X_test, y_test)\n",
    "print('Test accuracy:', test_acc)"
   ]
  },
  {
   "cell_type": "code",
   "execution_count": 68,
   "metadata": {},
   "outputs": [
    {
     "data": {
      "text/plain": [
       "0.5004689616840935"
      ]
     },
     "execution_count": 68,
     "metadata": {},
     "output_type": "execute_result"
    }
   ],
   "source": [
    "# check data balance\n",
    "y_train.sum()/y_train.shape[0]"
   ]
  },
  {
   "cell_type": "code",
   "execution_count": 69,
   "metadata": {},
   "outputs": [],
   "source": [
    "y_train_predict = rnn_model.predict_classes(X_train)\n",
    "y_test_predict = rnn_model.predict_classes(X_test)"
   ]
  },
  {
   "cell_type": "code",
   "execution_count": 70,
   "metadata": {},
   "outputs": [
    {
     "name": "stdout",
     "output_type": "stream",
     "text": [
      "              precision    recall  f1-score   support\n",
      "\n",
      "           0       0.58      0.69      0.63     14380\n",
      "           1       0.62      0.51      0.56     14407\n",
      "\n",
      "    accuracy                           0.60     28787\n",
      "   macro avg       0.60      0.60      0.60     28787\n",
      "weighted avg       0.60      0.60      0.60     28787\n",
      "\n",
      "              precision    recall  f1-score   support\n",
      "\n",
      "           0       0.58      0.69      0.63      3612\n",
      "           1       0.62      0.50      0.55      3585\n",
      "\n",
      "    accuracy                           0.59      7197\n",
      "   macro avg       0.60      0.59      0.59      7197\n",
      "weighted avg       0.60      0.59      0.59      7197\n",
      "\n"
     ]
    }
   ],
   "source": [
    "from sklearn.metrics import classification_report\n",
    "\n",
    "print(classification_report(y_train, y_train_predict))\n",
    "print(classification_report(y_test, y_test_predict))"
   ]
  },
  {
   "cell_type": "code",
   "execution_count": null,
   "metadata": {},
   "outputs": [],
   "source": []
  }
 ],
 "metadata": {
  "kernelspec": {
   "display_name": "Python 3",
   "language": "python",
   "name": "python3"
  },
  "language_info": {
   "codemirror_mode": {
    "name": "ipython",
    "version": 3
   },
   "file_extension": ".py",
   "mimetype": "text/x-python",
   "name": "python",
   "nbconvert_exporter": "python",
   "pygments_lexer": "ipython3",
   "version": "3.7.3"
  }
 },
 "nbformat": 4,
 "nbformat_minor": 2
}
