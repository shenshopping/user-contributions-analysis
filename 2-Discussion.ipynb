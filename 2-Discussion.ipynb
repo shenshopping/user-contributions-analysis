{
 "cells": [
  {
   "cell_type": "markdown",
   "metadata": {},
   "source": [
    "### Continuous contribution analysis\n",
    "We want to know whether the number of upvotes has impact on the authors' continuous contribution. The analysis consists of three parts:\n",
    "1. How many authors keep contributing?\n",
    "2. Among those who contribute continuously, how soon do they contribute?\n",
    "3. How much do they contribute?"
   ]
  },
  {
   "cell_type": "code",
   "execution_count": 1,
   "metadata": {},
   "outputs": [],
   "source": [
    "import pandas as pd\n",
    "%matplotlib inline\n",
    "import matplotlib.pyplot as plt\n",
    "plt.style.use('seaborn')"
   ]
  },
  {
   "cell_type": "code",
   "execution_count": 2,
   "metadata": {},
   "outputs": [],
   "source": [
    "df = pd.read_csv('Eluvio_DS_Challenge.csv')\n",
    "df = df.drop(columns=['down_votes', 'category'])\n",
    "df.date_created = pd.to_datetime(df.date_created)"
   ]
  },
  {
   "cell_type": "code",
   "execution_count": 3,
   "metadata": {},
   "outputs": [],
   "source": [
    "# sort by time\n",
    "df.sort_values(by=['time_created'], inplace=True)\n",
    "# nth content by each author\n",
    "df['nth_content'] = df.groupby(['author']).cumcount()+1"
   ]
  },
  {
   "cell_type": "code",
   "execution_count": 4,
   "metadata": {},
   "outputs": [
    {
     "data": {
      "text/html": [
       "<div>\n",
       "<style scoped>\n",
       "    .dataframe tbody tr th:only-of-type {\n",
       "        vertical-align: middle;\n",
       "    }\n",
       "\n",
       "    .dataframe tbody tr th {\n",
       "        vertical-align: top;\n",
       "    }\n",
       "\n",
       "    .dataframe thead th {\n",
       "        text-align: right;\n",
       "    }\n",
       "</style>\n",
       "<table border=\"1\" class=\"dataframe\">\n",
       "  <thead>\n",
       "    <tr style=\"text-align: right;\">\n",
       "      <th></th>\n",
       "      <th>time_created</th>\n",
       "      <th>date_created</th>\n",
       "      <th>up_votes</th>\n",
       "      <th>title</th>\n",
       "      <th>over_18</th>\n",
       "      <th>author</th>\n",
       "      <th>nth_content</th>\n",
       "    </tr>\n",
       "  </thead>\n",
       "  <tbody>\n",
       "    <tr>\n",
       "      <th>0</th>\n",
       "      <td>1201232046</td>\n",
       "      <td>2008-01-25</td>\n",
       "      <td>3</td>\n",
       "      <td>Scores killed in Pakistan clashes</td>\n",
       "      <td>False</td>\n",
       "      <td>polar</td>\n",
       "      <td>1</td>\n",
       "    </tr>\n",
       "    <tr>\n",
       "      <th>1</th>\n",
       "      <td>1201232075</td>\n",
       "      <td>2008-01-25</td>\n",
       "      <td>2</td>\n",
       "      <td>Japan resumes refuelling mission</td>\n",
       "      <td>False</td>\n",
       "      <td>polar</td>\n",
       "      <td>2</td>\n",
       "    </tr>\n",
       "    <tr>\n",
       "      <th>2</th>\n",
       "      <td>1201232523</td>\n",
       "      <td>2008-01-25</td>\n",
       "      <td>3</td>\n",
       "      <td>US presses Egypt on Gaza border</td>\n",
       "      <td>False</td>\n",
       "      <td>polar</td>\n",
       "      <td>3</td>\n",
       "    </tr>\n",
       "    <tr>\n",
       "      <th>3</th>\n",
       "      <td>1201233290</td>\n",
       "      <td>2008-01-25</td>\n",
       "      <td>1</td>\n",
       "      <td>Jump-start economy: Give health care to all</td>\n",
       "      <td>False</td>\n",
       "      <td>fadi420</td>\n",
       "      <td>1</td>\n",
       "    </tr>\n",
       "    <tr>\n",
       "      <th>4</th>\n",
       "      <td>1201274720</td>\n",
       "      <td>2008-01-25</td>\n",
       "      <td>4</td>\n",
       "      <td>Council of Europe bashes EU&amp;UN terror blacklist</td>\n",
       "      <td>False</td>\n",
       "      <td>mhermans</td>\n",
       "      <td>1</td>\n",
       "    </tr>\n",
       "  </tbody>\n",
       "</table>\n",
       "</div>"
      ],
      "text/plain": [
       "   time_created date_created  up_votes  \\\n",
       "0    1201232046   2008-01-25         3   \n",
       "1    1201232075   2008-01-25         2   \n",
       "2    1201232523   2008-01-25         3   \n",
       "3    1201233290   2008-01-25         1   \n",
       "4    1201274720   2008-01-25         4   \n",
       "\n",
       "                                             title  over_18    author  \\\n",
       "0                Scores killed in Pakistan clashes    False     polar   \n",
       "1                 Japan resumes refuelling mission    False     polar   \n",
       "2                  US presses Egypt on Gaza border    False     polar   \n",
       "3     Jump-start economy: Give health care to all     False   fadi420   \n",
       "4  Council of Europe bashes EU&UN terror blacklist    False  mhermans   \n",
       "\n",
       "   nth_content  \n",
       "0            1  \n",
       "1            2  \n",
       "2            3  \n",
       "3            1  \n",
       "4            1  "
      ]
     },
     "execution_count": 4,
     "metadata": {},
     "output_type": "execute_result"
    }
   ],
   "source": [
    "df.head(5)"
   ]
  },
  {
   "cell_type": "code",
   "execution_count": 5,
   "metadata": {},
   "outputs": [],
   "source": [
    "df_1st = df[df.nth_content == 1]"
   ]
  },
  {
   "cell_type": "code",
   "execution_count": 6,
   "metadata": {},
   "outputs": [
    {
     "name": "stderr",
     "output_type": "stream",
     "text": [
      "C:\\Users\\Xiaobin\\Anaconda3\\lib\\site-packages\\ipykernel_launcher.py:6: SettingWithCopyWarning: \n",
      "A value is trying to be set on a copy of a slice from a DataFrame.\n",
      "Try using .loc[row_indexer,col_indexer] = value instead\n",
      "\n",
      "See the caveats in the documentation: http://pandas.pydata.org/pandas-docs/stable/indexing.html#indexing-view-versus-copy\n",
      "  \n"
     ]
    }
   ],
   "source": [
    "def up_votes_category(up_votes):\n",
    "    if up_votes>20:\n",
    "        return 'high'\n",
    "    return 'low'\n",
    "\n",
    "df_1st['up_votes_category'] = df_1st.up_votes.apply(up_votes_category)"
   ]
  },
  {
   "cell_type": "code",
   "execution_count": 7,
   "metadata": {
    "scrolled": true
   },
   "outputs": [
    {
     "data": {
      "text/plain": [
       "low     67846\n",
       "high    17992\n",
       "Name: up_votes_category, dtype: int64"
      ]
     },
     "execution_count": 7,
     "metadata": {},
     "output_type": "execute_result"
    }
   ],
   "source": [
    "df_1st.up_votes_category.value_counts()"
   ]
  },
  {
   "cell_type": "code",
   "execution_count": 8,
   "metadata": {},
   "outputs": [
    {
     "data": {
      "text/html": [
       "<div>\n",
       "<style scoped>\n",
       "    .dataframe tbody tr th:only-of-type {\n",
       "        vertical-align: middle;\n",
       "    }\n",
       "\n",
       "    .dataframe tbody tr th {\n",
       "        vertical-align: top;\n",
       "    }\n",
       "\n",
       "    .dataframe thead th {\n",
       "        text-align: right;\n",
       "    }\n",
       "</style>\n",
       "<table border=\"1\" class=\"dataframe\">\n",
       "  <thead>\n",
       "    <tr style=\"text-align: right;\">\n",
       "      <th></th>\n",
       "      <th>title</th>\n",
       "      <th>author</th>\n",
       "      <th>up_votes_category</th>\n",
       "    </tr>\n",
       "  </thead>\n",
       "  <tbody>\n",
       "    <tr>\n",
       "      <th>count</th>\n",
       "      <td>85838</td>\n",
       "      <td>85838</td>\n",
       "      <td>85838</td>\n",
       "    </tr>\n",
       "    <tr>\n",
       "      <th>unique</th>\n",
       "      <td>85501</td>\n",
       "      <td>85838</td>\n",
       "      <td>2</td>\n",
       "    </tr>\n",
       "    <tr>\n",
       "      <th>top</th>\n",
       "      <td>New SARS-like virus is a  threat to the entire...</td>\n",
       "      <td>posting_from_work</td>\n",
       "      <td>low</td>\n",
       "    </tr>\n",
       "    <tr>\n",
       "      <th>freq</th>\n",
       "      <td>4</td>\n",
       "      <td>1</td>\n",
       "      <td>67846</td>\n",
       "    </tr>\n",
       "  </tbody>\n",
       "</table>\n",
       "</div>"
      ],
      "text/plain": [
       "                                                    title             author  \\\n",
       "count                                               85838              85838   \n",
       "unique                                              85501              85838   \n",
       "top     New SARS-like virus is a  threat to the entire...  posting_from_work   \n",
       "freq                                                    4                  1   \n",
       "\n",
       "       up_votes_category  \n",
       "count              85838  \n",
       "unique                 2  \n",
       "top                  low  \n",
       "freq               67846  "
      ]
     },
     "execution_count": 8,
     "metadata": {},
     "output_type": "execute_result"
    }
   ],
   "source": [
    "df_1st.describe(include='object')"
   ]
  },
  {
   "cell_type": "markdown",
   "metadata": {},
   "source": [
    "No author with the same name. Good for later analysis."
   ]
  },
  {
   "cell_type": "code",
   "execution_count": 11,
   "metadata": {},
   "outputs": [
    {
     "name": "stdout",
     "output_type": "stream",
     "text": [
      "Wall time: 17min 15s\n"
     ]
    }
   ],
   "source": [
    "%%time\n",
    "df_1st = df_1st.sample(10000, random_state=2019) # use only a subset because of time costs\n",
    "\n",
    "# time interval for the nth post after the first one, excluding the posts of the same day with the first\n",
    "def author_nth_time_diff(author, nth=2):\n",
    "    df_author = df[df.author == author]\n",
    "    time_1st = list(df_author.date_created)[0]\n",
    "    if len(list(df_author[df_author.date_created > time_1st].date_created)) > nth-2:\n",
    "        return (list(df_author[df_author.date_created > time_1st].date_created)[nth-2]-time_1st).days\n",
    "    return -1\n",
    "    \n",
    "df_1st['2nd_time_diff'] = df_1st.author.apply(lambda x: author_nth_time_diff(x))\n",
    "df_1st['5th_time_diff'] = df_1st.author.apply(lambda x: author_nth_time_diff(x, nth=5))\n",
    "df_1st['10th_time_diff'] = df_1st.author.apply(lambda x: author_nth_time_diff(x, nth=10))\n",
    "df_1st['20th_time_diff'] = df_1st.author.apply(lambda x: author_nth_time_diff(x, nth=20))\n",
    "df_1st['30th_time_diff'] = df_1st.author.apply(lambda x: author_nth_time_diff(x, nth=30))"
   ]
  },
  {
   "cell_type": "code",
   "execution_count": 12,
   "metadata": {},
   "outputs": [
    {
     "name": "stdout",
     "output_type": "stream",
     "text": [
      "Wall time: 10min 29s\n"
     ]
    }
   ],
   "source": [
    "%%time\n",
    "from datetime import datetime, timedelta\n",
    "\n",
    "def author_number_of_posts(author, days_diff=30):\n",
    "    df_author = df[df.author == author]\n",
    "    time_1st = list(df_author.date_created)[0]\n",
    "    time_days_later = time_1st + timedelta(days=days_diff)\n",
    "    return df_author[df_author.date_created <= time_days_later].shape[0]\n",
    "\n",
    "df_1st['no_of_posts_in_month'] = df_1st.author.apply(lambda x: author_number_of_posts(x))\n",
    "df_1st['no_of_posts_in_quarter'] = df_1st.author.apply(lambda x: author_number_of_posts(x, 90))\n",
    "df_1st['no_of_posts_in_year'] = df_1st.author.apply(lambda x: author_number_of_posts(x, 365))"
   ]
  },
  {
   "cell_type": "code",
   "execution_count": 13,
   "metadata": {},
   "outputs": [],
   "source": [
    "import matplotlib.pyplot as plt\n",
    "%matplotlib inline\n",
    "plt.style.use('seaborn')\n",
    "import seaborn as sns\n",
    "import numpy as np"
   ]
  },
  {
   "cell_type": "markdown",
   "metadata": {},
   "source": [
    "#### Continuous contribution rate\n",
    "After their initial post, what's the rate of authors who keep contributing."
   ]
  },
  {
   "cell_type": "code",
   "execution_count": 39,
   "metadata": {},
   "outputs": [
    {
     "data": {
      "text/plain": [
       "array([[2092],\n",
       "       [7908]], dtype=int64)"
      ]
     },
     "execution_count": 39,
     "metadata": {},
     "output_type": "execute_result"
    }
   ],
   "source": [
    "all_cnt = np.array(df_1st[['2nd_time_diff', 'up_votes_category']].groupby('up_votes_category').count()).reshape(2,-1)\n",
    "all_cnt"
   ]
  },
  {
   "cell_type": "code",
   "execution_count": 63,
   "metadata": {},
   "outputs": [
    {
     "data": {
      "text/plain": [
       "array([[ 802,  309,  172,   84,   63],\n",
       "       [2746, 1047,  551,  286,  201]], dtype=int64)"
      ]
     },
     "execution_count": 63,
     "metadata": {},
     "output_type": "execute_result"
    }
   ],
   "source": [
    "each_cnt = np.array(df_1st[(df_1st['2nd_time_diff']>0)][['2nd_time_diff', 'up_votes_category']].groupby('up_votes_category').count()).reshape(2,-1)\n",
    "tmp = np.array(df_1st[(df_1st['5th_time_diff']>0)][['5th_time_diff', 'up_votes_category']].groupby('up_votes_category').count()).reshape(2,-1)\n",
    "each_cnt = np.hstack([each_cnt, tmp])\n",
    "tmp = np.array(df_1st[(df_1st['10th_time_diff']>0)][['10th_time_diff', 'up_votes_category']].groupby('up_votes_category').count()).reshape(2,-1)\n",
    "each_cnt = np.hstack([each_cnt, tmp])\n",
    "tmp = np.array(df_1st[(df_1st['20th_time_diff']>0)][['20th_time_diff', 'up_votes_category']].groupby('up_votes_category').count()).reshape(2,-1)\n",
    "each_cnt = np.hstack([each_cnt, tmp])\n",
    "tmp = np.array(df_1st[(df_1st['30th_time_diff']>0)][['30th_time_diff', 'up_votes_category']].groupby('up_votes_category').count()).reshape(2,-1)\n",
    "each_cnt = np.hstack([each_cnt, tmp])\n",
    "each_cnt"
   ]
  },
  {
   "cell_type": "code",
   "execution_count": 33,
   "metadata": {},
   "outputs": [
    {
     "data": {
      "text/html": [
       "<div>\n",
       "<style scoped>\n",
       "    .dataframe tbody tr th:only-of-type {\n",
       "        vertical-align: middle;\n",
       "    }\n",
       "\n",
       "    .dataframe tbody tr th {\n",
       "        vertical-align: top;\n",
       "    }\n",
       "\n",
       "    .dataframe thead th {\n",
       "        text-align: right;\n",
       "    }\n",
       "</style>\n",
       "<table border=\"1\" class=\"dataframe\">\n",
       "  <thead>\n",
       "    <tr style=\"text-align: right;\">\n",
       "      <th></th>\n",
       "      <th>2nd_time_diff</th>\n",
       "    </tr>\n",
       "    <tr>\n",
       "      <th>up_votes_category</th>\n",
       "      <th></th>\n",
       "    </tr>\n",
       "  </thead>\n",
       "  <tbody>\n",
       "    <tr>\n",
       "      <th>high</th>\n",
       "      <td>802</td>\n",
       "    </tr>\n",
       "    <tr>\n",
       "      <th>low</th>\n",
       "      <td>2746</td>\n",
       "    </tr>\n",
       "  </tbody>\n",
       "</table>\n",
       "</div>"
      ],
      "text/plain": [
       "                   2nd_time_diff\n",
       "up_votes_category               \n",
       "high                         802\n",
       "low                         2746"
      ]
     },
     "execution_count": 33,
     "metadata": {},
     "output_type": "execute_result"
    }
   ],
   "source": [
    "df_1st[(df_1st['2nd_time_diff']>0)][['2nd_time_diff', 'up_votes_category']].groupby('up_votes_category').count()"
   ]
  },
  {
   "cell_type": "code",
   "execution_count": 74,
   "metadata": {
    "scrolled": true
   },
   "outputs": [
    {
     "data": {
      "image/png": "[encoded data removed]",
      "text/plain": [
       "<Figure size 576x396 with 1 Axes>"
      ]
     },
     "metadata": {},
     "output_type": "display_data"
    }
   ],
   "source": [
    "continuous_contribution_rate = each_cnt/all_cnt\n",
    "high = continuous_contribution_rate[0].reshape(5, )\n",
    "low = continuous_contribution_rate[1].reshape(5, )\n",
    "\n",
    "N = high.shape[0]\n",
    "\n",
    "ind = np.arange(N) \n",
    "width = 0.35       \n",
    "plt.bar(ind, high, width, label='High initial upvotes')\n",
    "plt.bar(ind + width, low, width,\n",
    "    label='Low initial upvotes')\n",
    "\n",
    "plt.ylabel('Rate')\n",
    "plt.title('Continuous Contribution Rate', fontsize=13)\n",
    "\n",
    "plt.xticks(ind + width / 2, ('2nd post', '5th post', '10th post', '20th post', '30th post'))\n",
    "plt.legend(loc='best')\n",
    "plt.show()"
   ]
  },
  {
   "cell_type": "markdown",
   "metadata": {},
   "source": [
    "#### Time interval for next nth posts"
   ]
  },
  {
   "cell_type": "code",
   "execution_count": 78,
   "metadata": {},
   "outputs": [
    {
     "data": {
      "text/html": [
       "<div>\n",
       "<style scoped>\n",
       "    .dataframe tbody tr th:only-of-type {\n",
       "        vertical-align: middle;\n",
       "    }\n",
       "\n",
       "    .dataframe tbody tr th {\n",
       "        vertical-align: top;\n",
       "    }\n",
       "\n",
       "    .dataframe thead th {\n",
       "        text-align: right;\n",
       "    }\n",
       "</style>\n",
       "<table border=\"1\" class=\"dataframe\">\n",
       "  <thead>\n",
       "    <tr style=\"text-align: right;\">\n",
       "      <th></th>\n",
       "      <th>2nd_time_diff</th>\n",
       "    </tr>\n",
       "    <tr>\n",
       "      <th>up_votes_category</th>\n",
       "      <th></th>\n",
       "    </tr>\n",
       "  </thead>\n",
       "  <tbody>\n",
       "    <tr>\n",
       "      <th>high</th>\n",
       "      <td>114.714464</td>\n",
       "    </tr>\n",
       "    <tr>\n",
       "      <th>low</th>\n",
       "      <td>105.707210</td>\n",
       "    </tr>\n",
       "  </tbody>\n",
       "</table>\n",
       "</div>"
      ],
      "text/plain": [
       "                   2nd_time_diff\n",
       "up_votes_category               \n",
       "high                  114.714464\n",
       "low                   105.707210"
      ]
     },
     "execution_count": 78,
     "metadata": {},
     "output_type": "execute_result"
    }
   ],
   "source": [
    "df_1st[(df_1st['2nd_time_diff']>0)][['2nd_time_diff', 'up_votes_category']].groupby('up_votes_category').mean()"
   ]
  },
  {
   "cell_type": "code",
   "execution_count": 79,
   "metadata": {},
   "outputs": [
    {
     "data": {
      "text/plain": [
       "array([[114.71446384, 194.97734628, 258.13953488, 280.82142857,\n",
       "        328.77777778],\n",
       "       [105.70721049, 186.47373448, 232.35027223, 275.83916084,\n",
       "        311.36318408]])"
      ]
     },
     "execution_count": 79,
     "metadata": {},
     "output_type": "execute_result"
    }
   ],
   "source": [
    "each_mean = np.array(df_1st[(df_1st['2nd_time_diff']>0)][['2nd_time_diff', 'up_votes_category']].groupby('up_votes_category').mean()).reshape(2,-1)\n",
    "tmp = np.array(df_1st[(df_1st['5th_time_diff']>0)][['5th_time_diff', 'up_votes_category']].groupby('up_votes_category').mean()).reshape(2,-1)\n",
    "each_mean = np.hstack([each_mean, tmp])\n",
    "tmp = np.array(df_1st[(df_1st['10th_time_diff']>0)][['10th_time_diff', 'up_votes_category']].groupby('up_votes_category').mean()).reshape(2,-1)\n",
    "each_mean = np.hstack([each_mean, tmp])\n",
    "tmp = np.array(df_1st[(df_1st['20th_time_diff']>0)][['20th_time_diff', 'up_votes_category']].groupby('up_votes_category').mean()).reshape(2,-1)\n",
    "each_mean = np.hstack([each_mean, tmp])\n",
    "tmp = np.array(df_1st[(df_1st['30th_time_diff']>0)][['30th_time_diff', 'up_votes_category']].groupby('up_votes_category').mean()).reshape(2,-1)\n",
    "each_mean = np.hstack([each_mean, tmp])\n",
    "each_mean"
   ]
  },
  {
   "cell_type": "code",
   "execution_count": 83,
   "metadata": {},
   "outputs": [
    {
     "data": {
      "image/png": "[encoded data removed]",
      "text/plain": [
       "<Figure size 576x396 with 1 Axes>"
      ]
     },
     "metadata": {},
     "output_type": "display_data"
    }
   ],
   "source": [
    "continuous_contribution_time_interval = each_mean\n",
    "high = continuous_contribution_time_interval[0].reshape(5, )\n",
    "low = continuous_contribution_time_interval[1].reshape(5, )\n",
    "\n",
    "N = high.shape[0]\n",
    "\n",
    "ind = np.arange(N) \n",
    "width = 0.35       \n",
    "plt.bar(ind, high, width, label='High initial upvotes')\n",
    "plt.bar(ind + width, low, width,\n",
    "    label='Low initial upvotes')\n",
    "\n",
    "plt.ylabel('Days')\n",
    "plt.title('Continuous Contribution Time Tnterval (days)', fontsize=13)\n",
    "\n",
    "plt.xticks(ind + width / 2, ('2nd post', '5th post', '10th post', '20th post', '30th post'))\n",
    "plt.legend(loc='best')\n",
    "plt.show()"
   ]
  },
  {
   "cell_type": "markdown",
   "metadata": {},
   "source": [
    "#### Quantity of posts\n",
    "- How many posts do they contribute after a given time interval since their initial post?"
   ]
  },
  {
   "cell_type": "code",
   "execution_count": 86,
   "metadata": {},
   "outputs": [
    {
     "data": {
      "text/html": [
       "<div>\n",
       "<style scoped>\n",
       "    .dataframe tbody tr th:only-of-type {\n",
       "        vertical-align: middle;\n",
       "    }\n",
       "\n",
       "    .dataframe tbody tr th {\n",
       "        vertical-align: top;\n",
       "    }\n",
       "\n",
       "    .dataframe thead th {\n",
       "        text-align: right;\n",
       "    }\n",
       "</style>\n",
       "<table border=\"1\" class=\"dataframe\">\n",
       "  <thead>\n",
       "    <tr style=\"text-align: right;\">\n",
       "      <th></th>\n",
       "      <th>no_of_posts_in_month</th>\n",
       "    </tr>\n",
       "    <tr>\n",
       "      <th>up_votes_category</th>\n",
       "      <th></th>\n",
       "    </tr>\n",
       "  </thead>\n",
       "  <tbody>\n",
       "    <tr>\n",
       "      <th>high</th>\n",
       "      <td>5.690632</td>\n",
       "    </tr>\n",
       "    <tr>\n",
       "      <th>low</th>\n",
       "      <td>5.624204</td>\n",
       "    </tr>\n",
       "  </tbody>\n",
       "</table>\n",
       "</div>"
      ],
      "text/plain": [
       "                   no_of_posts_in_month\n",
       "up_votes_category                      \n",
       "high                           5.690632\n",
       "low                            5.624204"
      ]
     },
     "execution_count": 86,
     "metadata": {},
     "output_type": "execute_result"
    }
   ],
   "source": [
    "df_1st[(df_1st['no_of_posts_in_month']>1)][['no_of_posts_in_month', 'up_votes_category']].groupby('up_votes_category').mean()"
   ]
  },
  {
   "cell_type": "code",
   "execution_count": 87,
   "metadata": {},
   "outputs": [
    {
     "data": {
      "text/plain": [
       "array([[ 5.69063181,  7.42141623, 11.30687831],\n",
       "       [ 5.62420382,  7.20689655,  9.91307606]])"
      ]
     },
     "execution_count": 87,
     "metadata": {},
     "output_type": "execute_result"
    }
   ],
   "source": [
    "df_1st[(df_1st['no_of_posts_in_quarter']>1)][['no_of_posts_in_quarter', 'up_votes_category']].groupby('up_votes_category').mean()\n",
    "\n",
    "no_of_posts = np.array(df_1st[(df_1st['no_of_posts_in_month']>1)][['no_of_posts_in_month', 'up_votes_category']].groupby('up_votes_category').mean()).reshape(2,-1)\n",
    "tmp = np.array(df_1st[(df_1st['no_of_posts_in_quarter']>1)][['no_of_posts_in_quarter', 'up_votes_category']].groupby('up_votes_category').mean()).reshape(2,-1)\n",
    "no_of_posts = np.hstack([no_of_posts, tmp])\n",
    "tmp = np.array(df_1st[(df_1st['no_of_posts_in_year']>1)][['no_of_posts_in_year', 'up_votes_category']].groupby('up_votes_category').mean()).reshape(2,-1)\n",
    "no_of_posts = np.hstack([no_of_posts, tmp])\n",
    "no_of_posts"
   ]
  },
  {
   "cell_type": "code",
   "execution_count": 90,
   "metadata": {},
   "outputs": [
    {
     "data": {
      "image/png": "[encoded data removed]",
      "text/plain": [
       "<Figure size 576x396 with 1 Axes>"
      ]
     },
     "metadata": {},
     "output_type": "display_data"
    }
   ],
   "source": [
    "high = no_of_posts[0].reshape(3, )\n",
    "low = no_of_posts[1].reshape(3, )\n",
    "\n",
    "N = high.shape[0]\n",
    "\n",
    "ind = np.arange(N) \n",
    "width = 0.35       \n",
    "plt.bar(ind, high, width, label='High initial upvotes')\n",
    "plt.bar(ind + width, low, width,\n",
    "    label='Low initial upvotes')\n",
    "\n",
    "plt.ylabel('# posts')\n",
    "plt.title('Number of Posts after Given Time Interval', fontsize=13)\n",
    "\n",
    "plt.xticks(ind + width / 2, ('in a month', 'in a quarter', 'in a year'))\n",
    "plt.legend(loc='best')\n",
    "plt.show()"
   ]
  },
  {
   "cell_type": "markdown",
   "metadata": {},
   "source": [
    "- No difference in short term.\n",
    "- Authors with high initial upvotes tend to contribute more in long run, indicating incentive effect of the number of upvotes from their first post."
   ]
  },
  {
   "cell_type": "markdown",
   "metadata": {},
   "source": [
    "##### Indications\n",
    "- Since a high initial upvotes will motivate an author to contribute more to the platform, the platform need to came up with better recomendation system to let the content being watched by more people."
   ]
  },
  {
   "cell_type": "code",
   "execution_count": null,
   "metadata": {},
   "outputs": [],
   "source": []
  }
 ],
 "metadata": {
  "kernelspec": {
   "display_name": "Python 3",
   "language": "python",
   "name": "python3"
  },
  "language_info": {
   "codemirror_mode": {
    "name": "ipython",
    "version": 3
   },
   "file_extension": ".py",
   "mimetype": "text/x-python",
   "name": "python",
   "nbconvert_exporter": "python",
   "pygments_lexer": "ipython3",
   "version": "3.7.3"
  }
 },
 "nbformat": 4,
 "nbformat_minor": 2
}
